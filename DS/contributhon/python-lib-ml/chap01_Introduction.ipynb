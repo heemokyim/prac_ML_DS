{
 "cells": [
  {
   "cell_type": "markdown",
   "metadata": {},
   "source": [
    "# Chapter 1 : 소개\n",
    "\n",
    "해당 장에서 다음과 같은 내용을 다룬다.\n",
    "\n",
    "* 머신러닝이 왜 유명해 졌는가?\n",
    "* 머신러닝을 사용해 어떤 문제를 해결할 수 있는가?\n",
    "* 어떻게 머신러닝 모델을 만드는가? "
   ]
  },
  {
   "cell_type": "markdown",
   "metadata": {},
   "source": [
    "## 1.1 왜 머신러닝인가?\n",
    "\n",
    "기존 규칙 기반 전문가 시스템(Rule-based expert system)에서 규칙이 너무많아 하나하나 코딩하기 어려울 때가 있다.\n",
    "\n",
    "### 직접 규칙을 만드는 두가지 단점\n",
    "\n",
    "* 작업이 조금만 변경되더라도 시스템을 크게 고쳐야 할 수 있다.\n",
    "* 규칙 설계를 위해 해당 분야의 전문적인 결정 방식에 대해 잘 알아야 한다.\n",
    "\n",
    "### 머신러닝으로 풀 수 있는 문제\n",
    "\n",
    "* **지도학습 : supervised learning**\n",
    "    1. 알고리즘에 입력(features)과 출력(label)을 제공한다.\n",
    "        * Dataset : Features + Label\n",
    "    2. **학습** : 입력에서 출력을 만드는 방법을 알고리즘이 찾는다.\n",
    "    3. **예측** : 알고리즘을 통해 입력만으로 기대되는 출력을 얻을 수 있다.  \n",
    "    \n",
    "    \n",
    "* **비지도학습 : unsupervised learning**\n",
    "    * 비지도학습은 알고리즘에 입력은 주어지지만 출력이 없다.  \n",
    "    따라서, 비지도학습은 지도학습에 비해 **평가하기 어렵다.**\n",
    "\n",
    "### 용어\n",
    "\n",
    "* Row == Sample == Data Point\n",
    "* Column == Feature\n",
    "* Feature Engineering(특성 공학) : 좋은 입력 데이터를 만들어내는 법\n",
    "\n",
    "### 문제와 데이터 이해하기\n",
    "\n",
    "**머신러닝 과정에서 가장 중요한 것이다.**\n",
    "\n",
    "데이터셋으로 무엇을 하는 것인지 이해하는 것이 우선!\n",
    "\n",
    "* **마음에 새겨둬야 할 머신러닝 체크리스트**\n",
    "    * 원하는 답?\n",
    "    * 데이터 확실(질적으로)? => 원하는 답 가능?\n",
    "    * 올바른 머신러닝 방법?\n",
    "    * 충분한 데이터 양?\n",
    "    * 추출한 특성이 무엇? => 좋은 예측 가능?\n",
    "    * 성능 측정?\n",
    "    * 다른 연구나 제품과 어떻게 협력?"
   ]
  },
  {
   "cell_type": "markdown",
   "metadata": {},
   "source": [
    "## 1.2 왜 파이썬인가?\n",
    "\n",
    "R과 같은 스크립팅 + 데이터 적재 + 시각화 + 통계+ 자연어 처리 + 이미지 처리...\n",
    "\n",
    "* 많은 라이브러리\n",
    "* 기존 스크립팅보다 빠르고 쉬운 반복 작업\n",
    "* 기존 시스템과의 통합성\n",
    "* GUI, Web Service 만들기 가능"
   ]
  },
  {
   "cell_type": "markdown",
   "metadata": {},
   "source": [
    "## 1.3 scikit-learn\n",
    "\n",
    "독보적 파이썬 머신러닝 라이브러리\n",
    "\n",
    "Anaconda로 가상환경 및 패키지 관리를 하면 편하다.\n",
    "\n",
    "`pip` 로 필요한 패키지 관리 가능 (python install package?)"
   ]
  },
  {
   "cell_type": "markdown",
   "metadata": {},
   "source": [
    "## 1.4 필수 라이브러리와 도구들\n",
    "\n",
    "### IPython과 Jupyter Notebook으로 대화식 스크립팅 툴\n",
    "    * 코드 설명, 이미지를 쉽게 섞어 쓸 수 있음\n",
    "\n",
    "### *NumPy*\n",
    "    * 배열에 활용\n",
    "    * 선형대수와 같은 고수준 수학 함수\n",
    "    * 유사(pseudo) 난수 생성기\n",
    "    * 푸리에 변환 등등\n",
    "    "
   ]
  },
  {
   "cell_type": "code",
   "execution_count": 5,
   "metadata": {},
   "outputs": [
    {
     "data": {
      "text/plain": [
       "array([[1, 2, 3],\n",
       "       [4, 5, 6]])"
      ]
     },
     "execution_count": 5,
     "metadata": {},
     "output_type": "execute_result"
    }
   ],
   "source": [
    "import numpy as np\n",
    "\n",
    "x = np.array([[1,2,3], [4,5,6]])\n",
    "x"
   ]
  },
  {
   "cell_type": "markdown",
   "metadata": {},
   "source": [
    "### *SciPy*\n",
    "    * 고성능 선형대수\n",
    "    * 함수 최적화\n",
    "    * 신호 처리\n",
    "    * 특수한 수학 함수 및 통계 분포 등등\n",
    "    * 가장 중요한 기능은 `scipy.sparse` : 희소행렬\n",
    "    \n",
    "#### CSR식 표현"
   ]
  },
  {
   "cell_type": "code",
   "execution_count": 9,
   "metadata": {},
   "outputs": [
    {
     "name": "stdout",
     "output_type": "stream",
     "text": [
      "[[1. 0. 0. 0.]\n",
      " [0. 1. 0. 0.]\n",
      " [0. 0. 1. 0.]\n",
      " [0. 0. 0. 1.]]\n"
     ]
    }
   ],
   "source": [
    "from scipy import sparse\n",
    "\n",
    "eye = np.eye(4)\n",
    "print(eye)"
   ]
  },
  {
   "cell_type": "code",
   "execution_count": 14,
   "metadata": {},
   "outputs": [
    {
     "name": "stdout",
     "output_type": "stream",
     "text": [
      "CSR 식 표현\n",
      "  (0, 0)\t1.0\n",
      "  (1, 1)\t1.0\n",
      "  (2, 2)\t1.0\n",
      "  (3, 3)\t1.0\n"
     ]
    }
   ],
   "source": [
    "# Numpy 배열을 scipy의 희소행렬로 변환\n",
    "# 0이 아닌 원소 위치만 저장\n",
    "\n",
    "sparse_matrix = sparse.csr_matrix(eye) # csr format\n",
    "print(\"CSR 식 표현\\n{}\".format(sparse_matrix))"
   ]
  },
  {
   "cell_type": "markdown",
   "metadata": {},
   "source": [
    "#### COO식 표현"
   ]
  },
  {
   "cell_type": "code",
   "execution_count": 11,
   "metadata": {},
   "outputs": [
    {
     "name": "stdout",
     "output_type": "stream",
     "text": [
      "[1. 1. 1. 1.]\n"
     ]
    }
   ],
   "source": [
    "data = np.ones(4)\n",
    "print(data)"
   ]
  },
  {
   "cell_type": "code",
   "execution_count": 15,
   "metadata": {},
   "outputs": [
    {
     "name": "stdout",
     "output_type": "stream",
     "text": [
      "COO 식 표현\n",
      "  (0, 0)\t1.0\n",
      "  (1, 1)\t1.0\n",
      "  (2, 2)\t1.0\n",
      "  (3, 3)\t1.0\n"
     ]
    }
   ],
   "source": [
    "row_indices = np.arange(4)\n",
    "col_indices = np.arange(4)\n",
    "eye_coo = sparse.coo_matrix((data, (row_indices, col_indices)))\n",
    "print(\"COO 식 표현\\n{}\".format(eye_coo))"
   ]
  },
  {
   "cell_type": "markdown",
   "metadata": {},
   "source": [
    "### *matplotlib* 시각화 라이브러리\n",
    "\n",
    "* 시각화하여 인사이트를 얻기에 좋음\n",
    "\n",
    "주피터 노트북에서는 `%matplotlib notebook`으로 브라우저에서 바로 사용하길 권장하지만  \n",
    "책에서는 `%matplotlib inline`을 권장?? 왜??\n",
    "\n",
    "그냥 `%matplotlib notebook` 이 친구가 안먹히니 inline을 쓰자.."
   ]
  },
  {
   "cell_type": "code",
   "execution_count": 21,
   "metadata": {},
   "outputs": [
    {
     "data": {
      "text/plain": [
       "[<matplotlib.lines.Line2D at 0x197ea5aba90>]"
      ]
     },
     "execution_count": 21,
     "metadata": {},
     "output_type": "execute_result"
    },
    {
     "data": {
      "image/png": "[encoded data removed]",
      "text/plain": [
       "<Figure size 432x288 with 1 Axes>"
      ]
     },
     "metadata": {},
     "output_type": "display_data"
    }
   ],
   "source": [
    "%matplotlib inline\n",
    "import matplotlib.pyplot as plt\n",
    "\n",
    "# -5 ~ 5 범위 내 100개의 데이터를 일정 간격으로 배열로 생성\n",
    "x = np.linspace(-5, 5, 100)\n",
    "y = np.sin(x)\n",
    "\n",
    "plt.plot(x, y, marker='o')\n"
   ]
  },
  {
   "cell_type": "markdown",
   "metadata": {},
   "source": [
    "### *pandas*\n",
    "\n",
    "* 데이터 처리와 분석을 위한 라이브러리\n",
    "* SQL처럼 쿼리나 조인 가능\n",
    "* DataFrame : 엑셀 스프레드시트와 비슷한 테이블 형태\n",
    "* 테이블, 엑셀파일 연동에 유용함\n",
    "\n",
    "#### 딕셔너리 to DataFrame 예제"
   ]
  },
  {
   "cell_type": "code",
   "execution_count": 22,
   "metadata": {},
   "outputs": [
    {
     "data": {
      "text/html": [
       "<div>\n",
       "<style scoped>\n",
       "    .dataframe tbody tr th:only-of-type {\n",
       "        vertical-align: middle;\n",
       "    }\n",
       "\n",
       "    .dataframe tbody tr th {\n",
       "        vertical-align: top;\n",
       "    }\n",
       "\n",
       "    .dataframe thead th {\n",
       "        text-align: right;\n",
       "    }\n",
       "</style>\n",
       "<table border=\"1\" class=\"dataframe\">\n",
       "  <thead>\n",
       "    <tr style=\"text-align: right;\">\n",
       "      <th></th>\n",
       "      <th>Name</th>\n",
       "      <th>Location</th>\n",
       "      <th>Age</th>\n",
       "    </tr>\n",
       "  </thead>\n",
       "  <tbody>\n",
       "    <tr>\n",
       "      <th>0</th>\n",
       "      <td>John</td>\n",
       "      <td>New York</td>\n",
       "      <td>24</td>\n",
       "    </tr>\n",
       "    <tr>\n",
       "      <th>1</th>\n",
       "      <td>Anna</td>\n",
       "      <td>Paris</td>\n",
       "      <td>13</td>\n",
       "    </tr>\n",
       "    <tr>\n",
       "      <th>2</th>\n",
       "      <td>Peter</td>\n",
       "      <td>Berlin</td>\n",
       "      <td>53</td>\n",
       "    </tr>\n",
       "    <tr>\n",
       "      <th>3</th>\n",
       "      <td>Linda</td>\n",
       "      <td>London</td>\n",
       "      <td>33</td>\n",
       "    </tr>\n",
       "  </tbody>\n",
       "</table>\n",
       "</div>"
      ],
      "text/plain": [
       "    Name  Location  Age\n",
       "0   John  New York   24\n",
       "1   Anna     Paris   13\n",
       "2  Peter    Berlin   53\n",
       "3  Linda    London   33"
      ]
     },
     "execution_count": 22,
     "metadata": {},
     "output_type": "execute_result"
    }
   ],
   "source": [
    "import pandas as pd\n",
    "\n",
    "data = {\n",
    "    'Name': [\"John\", \"Anna\", \"Peter\", \"Linda\"],\n",
    "    'Location' : [\"New York\", \"Paris\", \"Berlin\", \"London\"],\n",
    "    'Age' : [24, 13, 53, 33]\n",
    "}\n",
    "\n",
    "data_pandas = pd.DataFrame(data)\n",
    "data_pandas"
   ]
  },
  {
   "cell_type": "code",
   "execution_count": 25,
   "metadata": {
    "scrolled": true
   },
   "outputs": [
    {
     "data": {
      "text/html": [
       "<div>\n",
       "<style scoped>\n",
       "    .dataframe tbody tr th:only-of-type {\n",
       "        vertical-align: middle;\n",
       "    }\n",
       "\n",
       "    .dataframe tbody tr th {\n",
       "        vertical-align: top;\n",
       "    }\n",
       "\n",
       "    .dataframe thead th {\n",
       "        text-align: right;\n",
       "    }\n",
       "</style>\n",
       "<table border=\"1\" class=\"dataframe\">\n",
       "  <thead>\n",
       "    <tr style=\"text-align: right;\">\n",
       "      <th></th>\n",
       "      <th>Name</th>\n",
       "      <th>Location</th>\n",
       "      <th>Age</th>\n",
       "    </tr>\n",
       "  </thead>\n",
       "  <tbody>\n",
       "    <tr>\n",
       "      <th>2</th>\n",
       "      <td>Peter</td>\n",
       "      <td>Berlin</td>\n",
       "      <td>53</td>\n",
       "    </tr>\n",
       "    <tr>\n",
       "      <th>3</th>\n",
       "      <td>Linda</td>\n",
       "      <td>London</td>\n",
       "      <td>33</td>\n",
       "    </tr>\n",
       "  </tbody>\n",
       "</table>\n",
       "</div>"
      ],
      "text/plain": [
       "    Name Location  Age\n",
       "2  Peter   Berlin   53\n",
       "3  Linda   London   33"
      ]
     },
     "execution_count": 25,
     "metadata": {},
     "output_type": "execute_result"
    }
   ],
   "source": [
    "# 질의\n",
    "\n",
    "data_pandas[data_pandas.Age > 30]"
   ]
  },
  {
   "cell_type": "markdown",
   "metadata": {},
   "source": [
    "### mglearn?\n",
    "\n",
    "이 책을 위한 유틸 패키지\n",
    "\n",
    "그래프와 데이터 적재와 관련된 코드를 일일이 쓰지않게 해주는 유틸 함수가 있다.\n",
    "\n",
    "해당 패키지에 https://github.com/rickiepark/introduction_to_ml_with_python/tree/master/mglearn 를 클론하여 사용\n",
    "\n",
    "`pip install mglearn`을 이용해서 해당 가상환경에 설치 가능"
   ]
  },
  {
   "cell_type": "markdown",
   "metadata": {},
   "source": [
    "## 1.6 해당 교재 SW version\n",
    "\n",
    "버전 체크..\n",
    "\n",
    "sckit-learn은 0.18+ 이어야 한다"
   ]
  },
  {
   "cell_type": "code",
   "execution_count": 26,
   "metadata": {},
   "outputs": [
    {
     "name": "stdout",
     "output_type": "stream",
     "text": [
      "Python 버전: 3.6.5 |Anaconda, Inc.| (default, Mar 29 2018, 13:32:41) [MSC v.1900 64 bit (AMD64)]\n",
      "pandas 버전: 0.23.0\n",
      "matplotlib 버전: 2.2.2\n",
      "NumPy 버전: 1.14.3\n",
      "SciPy 버전: 1.1.0\n",
      "IPython 버전: 6.4.0\n",
      "scikit-learn 버전: 0.19.1\n"
     ]
    }
   ],
   "source": [
    "import sys\n",
    "print(\"Python 버전: {}\".format(sys.version))\n",
    "\n",
    "import pandas as pd\n",
    "print(\"pandas 버전: {}\".format(pd.__version__))\n",
    "\n",
    "import matplotlib\n",
    "print(\"matplotlib 버전: {}\".format(matplotlib.__version__))\n",
    "\n",
    "import numpy as np\n",
    "print(\"NumPy 버전: {}\".format(np.__version__))\n",
    "\n",
    "import scipy as sp\n",
    "print(\"SciPy 버전: {}\".format(sp.__version__))\n",
    "\n",
    "import IPython\n",
    "print(\"IPython 버전: {}\".format(IPython.__version__))\n",
    "\n",
    "import sklearn\n",
    "print(\"scikit-learn 버전: {}\".format(sklearn.__version__))"
   ]
  },
  {
   "cell_type": "markdown",
   "metadata": {},
   "source": [
    "## 1.7 첫 번째 App: 붓꽃(Iris)의 품종 분류\n",
    "\n",
    "* 품종 분류 문제 : **Classification**\n",
    "* 품종을 예측해야 하므로 품종이 **Label**\n",
    "* 꽃잎(petal)과 꽃받침(sepal)의 width와 length가 **Features**"
   ]
  },
  {
   "cell_type": "markdown",
   "metadata": {},
   "source": [
    "### 데이터 적재"
   ]
  },
  {
   "cell_type": "code",
   "execution_count": 27,
   "metadata": {},
   "outputs": [],
   "source": [
    "from sklearn.datasets import load_iris\n",
    "iris_dataset = load_iris()"
   ]
  },
  {
   "cell_type": "code",
   "execution_count": 29,
   "metadata": {},
   "outputs": [
    {
     "data": {
      "text/plain": [
       "dict_keys(['data', 'target', 'target_names', 'DESCR', 'feature_names'])"
      ]
     },
     "execution_count": 29,
     "metadata": {},
     "output_type": "execute_result"
    }
   ],
   "source": [
    "iris_dataset.keys()"
   ]
  },
  {
   "cell_type": "code",
   "execution_count": 33,
   "metadata": {},
   "outputs": [
    {
     "name": "stdout",
     "output_type": "stream",
     "text": [
      "Iris Plants Database\n",
      "====================\n",
      "\n",
      "Notes\n",
      "-----\n",
      "Data Set Characteristics:\n",
      "    :Number of Instances: 150 (50 in each of three classes)\n",
      "    :Number of Attributes: 4 numeric, predictive attributes ...\n"
     ]
    }
   ],
   "source": [
    "## 데이터 셋 설명 : DESCR\n",
    "print(iris_dataset['DESCR'][:200], '...')"
   ]
  },
  {
   "cell_type": "code",
   "execution_count": 37,
   "metadata": {},
   "outputs": [
    {
     "data": {
      "text/plain": [
       "array(['setosa', 'versicolor', 'virginica'], dtype='<U10')"
      ]
     },
     "execution_count": 37,
     "metadata": {},
     "output_type": "execute_result"
    }
   ],
   "source": [
    "iris_dataset['target_names']"
   ]
  },
  {
   "cell_type": "code",
   "execution_count": 38,
   "metadata": {},
   "outputs": [
    {
     "data": {
      "text/plain": [
       "['sepal length (cm)',\n",
       " 'sepal width (cm)',\n",
       " 'petal length (cm)',\n",
       " 'petal width (cm)']"
      ]
     },
     "execution_count": 38,
     "metadata": {},
     "output_type": "execute_result"
    }
   ],
   "source": [
    "iris_dataset['feature_names']"
   ]
  },
  {
   "cell_type": "code",
   "execution_count": 39,
   "metadata": {},
   "outputs": [
    {
     "data": {
      "text/plain": [
       "numpy.ndarray"
      ]
     },
     "execution_count": 39,
     "metadata": {},
     "output_type": "execute_result"
    }
   ],
   "source": [
    "type(iris_dataset['data'])"
   ]
  },
  {
   "cell_type": "code",
   "execution_count": 40,
   "metadata": {},
   "outputs": [
    {
     "data": {
      "text/plain": [
       "(150, 4)"
      ]
     },
     "execution_count": 40,
     "metadata": {},
     "output_type": "execute_result"
    }
   ],
   "source": [
    "iris_dataset['data'].shape"
   ]
  },
  {
   "cell_type": "code",
   "execution_count": 41,
   "metadata": {},
   "outputs": [
    {
     "data": {
      "text/plain": [
       "array([[5.1, 3.5, 1.4, 0.2],\n",
       "       [4.9, 3. , 1.4, 0.2],\n",
       "       [4.7, 3.2, 1.3, 0.2],\n",
       "       [4.6, 3.1, 1.5, 0.2],\n",
       "       [5. , 3.6, 1.4, 0.2],\n",
       "       [5.4, 3.9, 1.7, 0.4],\n",
       "       [4.6, 3.4, 1.4, 0.3],\n",
       "       [5. , 3.4, 1.5, 0.2],\n",
       "       [4.4, 2.9, 1.4, 0.2],\n",
       "       [4.9, 3.1, 1.5, 0.1]])"
      ]
     },
     "execution_count": 41,
     "metadata": {},
     "output_type": "execute_result"
    }
   ],
   "source": [
    "iris_dataset['data'][:10]"
   ]
  },
  {
   "cell_type": "code",
   "execution_count": 44,
   "metadata": {},
   "outputs": [
    {
     "data": {
      "text/plain": [
       "numpy.ndarray"
      ]
     },
     "execution_count": 44,
     "metadata": {},
     "output_type": "execute_result"
    }
   ],
   "source": [
    "type(iris_dataset['target'])"
   ]
  },
  {
   "cell_type": "code",
   "execution_count": 46,
   "metadata": {},
   "outputs": [
    {
     "data": {
      "text/plain": [
       "(150,)"
      ]
     },
     "execution_count": 46,
     "metadata": {},
     "output_type": "execute_result"
    }
   ],
   "source": [
    "iris_dataset['target'].shape"
   ]
  },
  {
   "cell_type": "code",
   "execution_count": 52,
   "metadata": {},
   "outputs": [
    {
     "data": {
      "text/plain": [
       "array([0, 0, 0, 0, 0, 0, 0, 0, 0, 0, 0, 0, 0, 0, 0, 0, 0, 0, 0, 0, 0, 0,\n",
       "       0, 0, 0, 0, 0, 0, 0, 0, 0, 0, 0, 0, 0, 0, 0, 0, 0, 0, 0, 0, 0, 0,\n",
       "       0, 0, 0, 0, 0, 0, 1, 1, 1, 1, 1, 1, 1, 1, 1, 1, 1, 1, 1, 1, 1, 1,\n",
       "       1, 1, 1, 1, 1, 1, 1, 1, 1, 1, 1, 1, 1, 1, 1, 1, 1, 1, 1, 1, 1, 1,\n",
       "       1, 1, 1, 1, 1, 1, 1, 1, 1, 1, 1, 1, 2, 2, 2, 2, 2, 2, 2, 2, 2, 2,\n",
       "       2, 2, 2, 2, 2, 2, 2, 2, 2, 2, 2, 2, 2, 2, 2, 2, 2, 2, 2, 2, 2, 2,\n",
       "       2, 2, 2, 2, 2, 2, 2, 2, 2, 2, 2, 2, 2, 2, 2, 2, 2, 2])"
      ]
     },
     "execution_count": 52,
     "metadata": {},
     "output_type": "execute_result"
    }
   ],
   "source": [
    "# 0: setosa\n",
    "# 1: versicolor\n",
    "# 2: virginica\n",
    "iris_dataset['target']"
   ]
  },
  {
   "cell_type": "markdown",
   "metadata": {},
   "source": [
    "### 성과 측정: 훈련 데이터와 테스트 데이터\n",
    "\n",
    "모델을 만들 때 쓴 데이터는 평가 목적으로 활용할 수 없다!\n",
    "\n",
    "새로운 데이터에 잘 적용 될 수 있도록 **일반화**를 잘 해야한다.\n",
    "\n",
    "따라서, 기존 Data set을 Train set과 Test set(hold-out set)으로 나누어야 한다.\n",
    "\n",
    "Test set은 모델 성능 측정 때 사용한다.\n",
    "\n",
    "* Vector(1차원)은 소문자 : y\n",
    "* Matrix(2차원)은 대문자 : X\n",
    "\n",
    "#### sklearn.model_selection.train_test_split 에 대해서..\n",
    "\n",
    "`train_test_split`은 기존 데이터 셋에서 Train set과 Test set을 나눠주는 함수이다.\n",
    "\n",
    "* 기본적으로 데이터 셋을 랜덤하게 섞음\n",
    "* 따라서 항상 일정하게 측정하고 싶을 때는 시드값을 따로 설정해 주어야함\n",
    "* 시드값은 `train_test_split`의 인자로 `random_state`를 통해 설정할 수 있음\n",
    "* 기본적으로 75%를 Train set으로 사용한다."
   ]
  },
  {
   "cell_type": "code",
   "execution_count": 60,
   "metadata": {},
   "outputs": [
    {
     "data": {
      "text/plain": [
       "((112, 4), (38, 4))"
      ]
     },
     "execution_count": 60,
     "metadata": {},
     "output_type": "execute_result"
    }
   ],
   "source": [
    "from sklearn.model_selection import train_test_split\n",
    "\n",
    "X_train, X_test, y_train, y_test = train_test_split(\n",
    "    iris_dataset['data'], iris_dataset['target'], random_state=0\n",
    ")\n",
    "\n",
    "X_train.shape, X_test.shape "
   ]
  },
  {
   "cell_type": "code",
   "execution_count": 59,
   "metadata": {},
   "outputs": [
    {
     "data": {
      "text/plain": [
       "array([2, 1, 0, 2, 0, 2, 0, 1, 1, 1, 2, 1, 1, 1, 1, 0, 1, 1, 0, 0, 2, 1,\n",
       "       0, 0, 2, 0, 0, 1, 1, 0, 2, 1, 0, 2, 2, 1, 0, 1])"
      ]
     },
     "execution_count": 59,
     "metadata": {},
     "output_type": "execute_result"
    }
   ],
   "source": [
    "y_test"
   ]
  },
  {
   "cell_type": "markdown",
   "metadata": {},
   "source": [
    "### 가장 먼저 할 일: 데이터 살펴보기\n",
    "\n",
    "* 머신러닝 쓰기 전 따져 봐야 할 것\n",
    "    * 머신러닝 안쓰고도 가능한거 아니야?\n",
    "    * 정보가 누락된건 없나?\n",
    "    * 비정상적인 값 없나?\n",
    "    \n",
    "#### Scatter Plot: 산점도\n",
    "\n",
    "데이터를 조사하는 좋은 방법이다.\n",
    "\n",
    "Feature 2개를 각 축으로 (혹은 3개? 2장에서...) 해당 샘플을 그래프에 점으로 찍는다.\n",
    "\n",
    "하지만 각 그래프당 3개 이하의 Features만 그릴 수 있으므로 **Scatter matrix**를 활용하여 모든 Feature간의 관계를 볼 수 있다.\n",
    "\n",
    "#### 이용방법\n",
    "\n",
    "1. Numpy Arrary => pandas.DataFrame\n",
    "1. pandas의 scatter_matrix를 이용하여 그리기"
   ]
  },
  {
   "cell_type": "code",
   "execution_count": 71,
   "metadata": {
    "scrolled": false
   },
   "outputs": [
    {
     "data": {
      "text/plain": [
       "array([[<matplotlib.axes._subplots.AxesSubplot object at 0x00000197F1EB1C88>,\n",
       "        <matplotlib.axes._subplots.AxesSubplot object at 0x00000197F390CC50>,\n",
       "        <matplotlib.axes._subplots.AxesSubplot object at 0x00000197F392F1D0>,\n",
       "        <matplotlib.axes._subplots.AxesSubplot object at 0x00000197F3441828>],\n",
       "       [<matplotlib.axes._subplots.AxesSubplot object at 0x00000197F3468EB8>,\n",
       "        <matplotlib.axes._subplots.AxesSubplot object at 0x00000197F3468EF0>,\n",
       "        <matplotlib.axes._subplots.AxesSubplot object at 0x00000197F34C0C18>,\n",
       "        <matplotlib.axes._subplots.AxesSubplot object at 0x00000197F34F42E8>],\n",
       "       [<matplotlib.axes._subplots.AxesSubplot object at 0x00000197F351A978>,\n",
       "        <matplotlib.axes._subplots.AxesSubplot object at 0x00000197F354C048>,\n",
       "        <matplotlib.axes._subplots.AxesSubplot object at 0x00000197F35776D8>,\n",
       "        <matplotlib.axes._subplots.AxesSubplot object at 0x00000197F359DD68>],\n",
       "       [<matplotlib.axes._subplots.AxesSubplot object at 0x00000197F35CE438>,\n",
       "        <matplotlib.axes._subplots.AxesSubplot object at 0x00000197F35F7AC8>,\n",
       "        <matplotlib.axes._subplots.AxesSubplot object at 0x00000197F3629198>,\n",
       "        <matplotlib.axes._subplots.AxesSubplot object at 0x00000197F364F828>]],\n",
       "      dtype=object)"
      ]
     },
     "execution_count": 71,
     "metadata": {},
     "output_type": "execute_result"
    },
    {
     "data": {
      "image/png": "[encoded data removed]",
      "text/plain": [
       "<Figure size 1080x1080 with 16 Axes>"
      ]
     },
     "metadata": {},
     "output_type": "display_data"
    }
   ],
   "source": [
    "import mglearn\n",
    "\n",
    "iris_dataframe = pd.DataFrame(X_train, columns=iris_dataset.feature_names)\n",
    "pd.plotting.scatter_matrix(iris_dataframe, c=y_train, figsize=(15,15), marker='o'\n",
    "                          ,hist_kwds={'bins': 20}, s=60, alpha=.3, cmap=mglearn.cm3)"
   ]
  },
  {
   "cell_type": "markdown",
   "metadata": {},
   "source": [
    "### 첫 번째 머신러닝 모델: k-최근접 이웃 알고리즘\n",
    "\n",
    "#### k-NN, k-Nearest Neighbors란?\n",
    "\n",
    "* 훈련 데이터는 단순히 저장\n",
    "* 예측은 예측 해야할 샘플에서 가장 가까운 훈련 샘플의 레이블로 지정\n",
    "* k는 가장 가까운 훈련 샘플 몇개를 볼 것인가를 의미 (홀수 권장, voting..)\n",
    "\n",
    "#### scikit-learn의 Estimator\n",
    "\n",
    "사이킷 런의 머신러닝 모델은 Estimator의 클래스로 각각 구현되어 있다. (상속)"
   ]
  },
  {
   "cell_type": "code",
   "execution_count": 72,
   "metadata": {},
   "outputs": [],
   "source": [
    "from sklearn.neighbors import KNeighborsClassifier\n",
    "knn = KNeighborsClassifier(n_neighbors=1)"
   ]
  },
  {
   "cell_type": "code",
   "execution_count": 73,
   "metadata": {},
   "outputs": [
    {
     "data": {
      "text/plain": [
       "KNeighborsClassifier(algorithm='auto', leaf_size=30, metric='minkowski',\n",
       "           metric_params=None, n_jobs=1, n_neighbors=1, p=2,\n",
       "           weights='uniform')"
      ]
     },
     "execution_count": 73,
     "metadata": {},
     "output_type": "execute_result"
    }
   ],
   "source": [
    "knn.fit(X_train, y_train)"
   ]
  },
  {
   "cell_type": "markdown",
   "metadata": {},
   "source": [
    "### 예측하기"
   ]
  },
  {
   "cell_type": "code",
   "execution_count": 74,
   "metadata": {},
   "outputs": [
    {
     "data": {
      "text/plain": [
       "(1, 4)"
      ]
     },
     "execution_count": 74,
     "metadata": {},
     "output_type": "execute_result"
    }
   ],
   "source": [
    "X_new = np.array([[5, 2.9, 1, 0.2]])\n",
    "X_new.shape"
   ]
  },
  {
   "cell_type": "code",
   "execution_count": 75,
   "metadata": {},
   "outputs": [
    {
     "data": {
      "text/plain": [
       "array([0])"
      ]
     },
     "execution_count": 75,
     "metadata": {},
     "output_type": "execute_result"
    }
   ],
   "source": [
    "prediction = knn.predict(X_new)\n",
    "prediction"
   ]
  },
  {
   "cell_type": "code",
   "execution_count": 76,
   "metadata": {},
   "outputs": [
    {
     "data": {
      "text/plain": [
       "array(['setosa'], dtype='<U10')"
      ]
     },
     "execution_count": 76,
     "metadata": {},
     "output_type": "execute_result"
    }
   ],
   "source": [
    "iris_dataset['target_names'][prediction]"
   ]
  },
  {
   "cell_type": "markdown",
   "metadata": {},
   "source": [
    "### 모델 평가하기\n",
    "\n",
    "Accuracy: 정확도 로 계산하여 모델 성능 평가 예시"
   ]
  },
  {
   "cell_type": "code",
   "execution_count": 78,
   "metadata": {},
   "outputs": [
    {
     "data": {
      "text/plain": [
       "array([2, 1, 0, 2, 0, 2, 0, 1, 1, 1, 2, 1, 1, 1, 1, 0, 1, 1, 0, 0, 2, 1,\n",
       "       0, 0, 2, 0, 0, 1, 1, 0, 2, 1, 0, 2, 2, 1, 0, 2])"
      ]
     },
     "execution_count": 78,
     "metadata": {},
     "output_type": "execute_result"
    }
   ],
   "source": [
    "y_pred = knn.predict(X_test)\n",
    "y_pred"
   ]
  },
  {
   "cell_type": "code",
   "execution_count": 79,
   "metadata": {},
   "outputs": [
    {
     "name": "stdout",
     "output_type": "stream",
     "text": [
      "Accuracy: 0.974\n"
     ]
    }
   ],
   "source": [
    "print(\"Accuracy: {:.3f}\".format(knn.score(X_test, y_test)))"
   ]
  },
  {
   "cell_type": "markdown",
   "metadata": {},
   "source": [
    "## 1.8 요약 및 정리\n",
    "\n",
    "* 1장에서 살펴본 것들\n",
    "    * 머신러닝\n",
    "    * 지도학습과 비지도학습\n",
    "    * 사용할 도구\n",
    "    * 붓꽃 분류(Classification) 예측\n",
    "    * Train set & Test set\n",
    "    * k-NN Classification\n",
    "    * Accuracy Score"
   ]
  }
 ],
 "metadata": {
  "kernelspec": {
   "display_name": "Python 3",
   "language": "python",
   "name": "python3"
  },
  "language_info": {
   "codemirror_mode": {
    "name": "ipython",
    "version": 3
   },
   "file_extension": ".py",
   "mimetype": "text/x-python",
   "name": "python",
   "nbconvert_exporter": "python",
   "pygments_lexer": "ipython3",
   "version": "3.6.5"
  }
 },
 "nbformat": 4,
 "nbformat_minor": 2
}
