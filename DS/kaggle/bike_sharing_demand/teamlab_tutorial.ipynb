{
 "cells": [
  {
   "cell_type": "code",
   "execution_count": 1,
   "metadata": {},
   "outputs": [],
   "source": [
    "import pandas as pd\n",
    "import numpy as np\n",
    "import matplotlib.pyplot as plt"
   ]
  },
  {
   "cell_type": "code",
   "execution_count": 5,
   "metadata": {},
   "outputs": [],
   "source": [
    "test_df = pd.read_csv('./data/test.csv', parse_dates=[\"datetime\"])\n",
    "train_df = pd.read_csv('./data/train.csv', parse_dates=[\"datetime\"])"
   ]
  },
  {
   "cell_type": "code",
   "execution_count": 8,
   "metadata": {},
   "outputs": [
    {
     "data": {
      "text/html": [
       "<div>\n",
       "<style scoped>\n",
       "    .dataframe tbody tr th:only-of-type {\n",
       "        vertical-align: middle;\n",
       "    }\n",
       "\n",
       "    .dataframe tbody tr th {\n",
       "        vertical-align: top;\n",
       "    }\n",
       "\n",
       "    .dataframe thead th {\n",
       "        text-align: right;\n",
       "    }\n",
       "</style>\n",
       "<table border=\"1\" class=\"dataframe\">\n",
       "  <thead>\n",
       "    <tr style=\"text-align: right;\">\n",
       "      <th></th>\n",
       "      <th>index</th>\n",
       "      <th>atemp</th>\n",
       "      <th>casual</th>\n",
       "      <th>count</th>\n",
       "      <th>datetime</th>\n",
       "      <th>holiday</th>\n",
       "      <th>humidity</th>\n",
       "      <th>registered</th>\n",
       "      <th>season</th>\n",
       "      <th>temp</th>\n",
       "      <th>weather</th>\n",
       "      <th>windspeed</th>\n",
       "      <th>workingday</th>\n",
       "    </tr>\n",
       "  </thead>\n",
       "  <tbody>\n",
       "    <tr>\n",
       "      <th>0</th>\n",
       "      <td>0</td>\n",
       "      <td>14.395</td>\n",
       "      <td>3.0</td>\n",
       "      <td>16.0</td>\n",
       "      <td>2011-01-01 00:00:00</td>\n",
       "      <td>0</td>\n",
       "      <td>81</td>\n",
       "      <td>13.0</td>\n",
       "      <td>1</td>\n",
       "      <td>9.84</td>\n",
       "      <td>1</td>\n",
       "      <td>0.0</td>\n",
       "      <td>0</td>\n",
       "    </tr>\n",
       "    <tr>\n",
       "      <th>1</th>\n",
       "      <td>1</td>\n",
       "      <td>13.635</td>\n",
       "      <td>8.0</td>\n",
       "      <td>40.0</td>\n",
       "      <td>2011-01-01 01:00:00</td>\n",
       "      <td>0</td>\n",
       "      <td>80</td>\n",
       "      <td>32.0</td>\n",
       "      <td>1</td>\n",
       "      <td>9.02</td>\n",
       "      <td>1</td>\n",
       "      <td>0.0</td>\n",
       "      <td>0</td>\n",
       "    </tr>\n",
       "    <tr>\n",
       "      <th>2</th>\n",
       "      <td>2</td>\n",
       "      <td>13.635</td>\n",
       "      <td>5.0</td>\n",
       "      <td>32.0</td>\n",
       "      <td>2011-01-01 02:00:00</td>\n",
       "      <td>0</td>\n",
       "      <td>80</td>\n",
       "      <td>27.0</td>\n",
       "      <td>1</td>\n",
       "      <td>9.02</td>\n",
       "      <td>1</td>\n",
       "      <td>0.0</td>\n",
       "      <td>0</td>\n",
       "    </tr>\n",
       "    <tr>\n",
       "      <th>3</th>\n",
       "      <td>3</td>\n",
       "      <td>14.395</td>\n",
       "      <td>3.0</td>\n",
       "      <td>13.0</td>\n",
       "      <td>2011-01-01 03:00:00</td>\n",
       "      <td>0</td>\n",
       "      <td>75</td>\n",
       "      <td>10.0</td>\n",
       "      <td>1</td>\n",
       "      <td>9.84</td>\n",
       "      <td>1</td>\n",
       "      <td>0.0</td>\n",
       "      <td>0</td>\n",
       "    </tr>\n",
       "    <tr>\n",
       "      <th>4</th>\n",
       "      <td>4</td>\n",
       "      <td>14.395</td>\n",
       "      <td>0.0</td>\n",
       "      <td>1.0</td>\n",
       "      <td>2011-01-01 04:00:00</td>\n",
       "      <td>0</td>\n",
       "      <td>75</td>\n",
       "      <td>1.0</td>\n",
       "      <td>1</td>\n",
       "      <td>9.84</td>\n",
       "      <td>1</td>\n",
       "      <td>0.0</td>\n",
       "      <td>0</td>\n",
       "    </tr>\n",
       "  </tbody>\n",
       "</table>\n",
       "</div>"
      ],
      "text/plain": [
       "   index   atemp  casual  count            datetime  holiday  humidity  \\\n",
       "0      0  14.395     3.0   16.0 2011-01-01 00:00:00        0        81   \n",
       "1      1  13.635     8.0   40.0 2011-01-01 01:00:00        0        80   \n",
       "2      2  13.635     5.0   32.0 2011-01-01 02:00:00        0        80   \n",
       "3      3  14.395     3.0   13.0 2011-01-01 03:00:00        0        75   \n",
       "4      4  14.395     0.0    1.0 2011-01-01 04:00:00        0        75   \n",
       "\n",
       "   registered  season  temp  weather  windspeed  workingday  \n",
       "0        13.0       1  9.84        1        0.0           0  \n",
       "1        32.0       1  9.02        1        0.0           0  \n",
       "2        27.0       1  9.02        1        0.0           0  \n",
       "3        10.0       1  9.84        1        0.0           0  \n",
       "4         1.0       1  9.84        1        0.0           0  "
      ]
     },
     "execution_count": 8,
     "metadata": {},
     "output_type": "execute_result"
    }
   ],
   "source": [
    "all_df = pd.concat((train_df, test_df), axis=0, sort=True).reset_index()\n",
    "all_df.head()"
   ]
  },
  {
   "cell_type": "code",
   "execution_count": 9,
   "metadata": {},
   "outputs": [
    {
     "data": {
      "text/html": [
       "<div>\n",
       "<style scoped>\n",
       "    .dataframe tbody tr th:only-of-type {\n",
       "        vertical-align: middle;\n",
       "    }\n",
       "\n",
       "    .dataframe tbody tr th {\n",
       "        vertical-align: top;\n",
       "    }\n",
       "\n",
       "    .dataframe thead th {\n",
       "        text-align: right;\n",
       "    }\n",
       "</style>\n",
       "<table border=\"1\" class=\"dataframe\">\n",
       "  <thead>\n",
       "    <tr style=\"text-align: right;\">\n",
       "      <th></th>\n",
       "      <th>index</th>\n",
       "      <th>atemp</th>\n",
       "      <th>casual</th>\n",
       "      <th>count</th>\n",
       "      <th>datetime</th>\n",
       "      <th>holiday</th>\n",
       "      <th>humidity</th>\n",
       "      <th>registered</th>\n",
       "      <th>season</th>\n",
       "      <th>temp</th>\n",
       "      <th>weather</th>\n",
       "      <th>windspeed</th>\n",
       "      <th>workingday</th>\n",
       "    </tr>\n",
       "  </thead>\n",
       "  <tbody>\n",
       "    <tr>\n",
       "      <th>17374</th>\n",
       "      <td>6488</td>\n",
       "      <td>12.880</td>\n",
       "      <td>NaN</td>\n",
       "      <td>NaN</td>\n",
       "      <td>2012-12-31 19:00:00</td>\n",
       "      <td>0</td>\n",
       "      <td>60</td>\n",
       "      <td>NaN</td>\n",
       "      <td>1</td>\n",
       "      <td>10.66</td>\n",
       "      <td>2</td>\n",
       "      <td>11.0014</td>\n",
       "      <td>1</td>\n",
       "    </tr>\n",
       "    <tr>\n",
       "      <th>17375</th>\n",
       "      <td>6489</td>\n",
       "      <td>12.880</td>\n",
       "      <td>NaN</td>\n",
       "      <td>NaN</td>\n",
       "      <td>2012-12-31 20:00:00</td>\n",
       "      <td>0</td>\n",
       "      <td>60</td>\n",
       "      <td>NaN</td>\n",
       "      <td>1</td>\n",
       "      <td>10.66</td>\n",
       "      <td>2</td>\n",
       "      <td>11.0014</td>\n",
       "      <td>1</td>\n",
       "    </tr>\n",
       "    <tr>\n",
       "      <th>17376</th>\n",
       "      <td>6490</td>\n",
       "      <td>12.880</td>\n",
       "      <td>NaN</td>\n",
       "      <td>NaN</td>\n",
       "      <td>2012-12-31 21:00:00</td>\n",
       "      <td>0</td>\n",
       "      <td>60</td>\n",
       "      <td>NaN</td>\n",
       "      <td>1</td>\n",
       "      <td>10.66</td>\n",
       "      <td>1</td>\n",
       "      <td>11.0014</td>\n",
       "      <td>1</td>\n",
       "    </tr>\n",
       "    <tr>\n",
       "      <th>17377</th>\n",
       "      <td>6491</td>\n",
       "      <td>13.635</td>\n",
       "      <td>NaN</td>\n",
       "      <td>NaN</td>\n",
       "      <td>2012-12-31 22:00:00</td>\n",
       "      <td>0</td>\n",
       "      <td>56</td>\n",
       "      <td>NaN</td>\n",
       "      <td>1</td>\n",
       "      <td>10.66</td>\n",
       "      <td>1</td>\n",
       "      <td>8.9981</td>\n",
       "      <td>1</td>\n",
       "    </tr>\n",
       "    <tr>\n",
       "      <th>17378</th>\n",
       "      <td>6492</td>\n",
       "      <td>13.635</td>\n",
       "      <td>NaN</td>\n",
       "      <td>NaN</td>\n",
       "      <td>2012-12-31 23:00:00</td>\n",
       "      <td>0</td>\n",
       "      <td>65</td>\n",
       "      <td>NaN</td>\n",
       "      <td>1</td>\n",
       "      <td>10.66</td>\n",
       "      <td>1</td>\n",
       "      <td>8.9981</td>\n",
       "      <td>1</td>\n",
       "    </tr>\n",
       "  </tbody>\n",
       "</table>\n",
       "</div>"
      ],
      "text/plain": [
       "       index   atemp  casual  count            datetime  holiday  humidity  \\\n",
       "17374   6488  12.880     NaN    NaN 2012-12-31 19:00:00        0        60   \n",
       "17375   6489  12.880     NaN    NaN 2012-12-31 20:00:00        0        60   \n",
       "17376   6490  12.880     NaN    NaN 2012-12-31 21:00:00        0        60   \n",
       "17377   6491  13.635     NaN    NaN 2012-12-31 22:00:00        0        56   \n",
       "17378   6492  13.635     NaN    NaN 2012-12-31 23:00:00        0        65   \n",
       "\n",
       "       registered  season   temp  weather  windspeed  workingday  \n",
       "17374         NaN       1  10.66        2    11.0014           1  \n",
       "17375         NaN       1  10.66        2    11.0014           1  \n",
       "17376         NaN       1  10.66        1    11.0014           1  \n",
       "17377         NaN       1  10.66        1     8.9981           1  \n",
       "17378         NaN       1  10.66        1     8.9981           1  "
      ]
     },
     "execution_count": 9,
     "metadata": {},
     "output_type": "execute_result"
    }
   ],
   "source": [
    "all_df.tail()"
   ]
  },
  {
   "cell_type": "code",
   "execution_count": 10,
   "metadata": {},
   "outputs": [
    {
     "data": {
      "text/plain": [
       "(10885, 17378)"
      ]
     },
     "execution_count": 10,
     "metadata": {},
     "output_type": "execute_result"
    }
   ],
   "source": [
    "train_index = list(range(len(train_df)))\n",
    "test_index = list(range(len(train_df), len(all_df)))\n",
    "train_index[-1], test_index[-1]"
   ]
  },
  {
   "cell_type": "code",
   "execution_count": 14,
   "metadata": {},
   "outputs": [
    {
     "data": {
      "text/plain": [
       "6493"
      ]
     },
     "execution_count": 14,
     "metadata": {},
     "output_type": "execute_result"
    }
   ],
   "source": [
    "len(test_df)"
   ]
  },
  {
   "cell_type": "code",
   "execution_count": 15,
   "metadata": {},
   "outputs": [
    {
     "data": {
      "text/plain": [
       "index            0\n",
       "atemp            0\n",
       "casual        6493\n",
       "count         6493\n",
       "datetime         0\n",
       "holiday          0\n",
       "humidity         0\n",
       "registered    6493\n",
       "season           0\n",
       "temp             0\n",
       "weather          0\n",
       "windspeed        0\n",
       "workingday       0\n",
       "dtype: int64"
      ]
     },
     "execution_count": 15,
     "metadata": {},
     "output_type": "execute_result"
    }
   ],
   "source": [
    "all_df.isnull().sum()"
   ]
  },
  {
   "cell_type": "markdown",
   "metadata": {},
   "source": [
    "## Evaluation Metrics"
   ]
  },
  {
   "cell_type": "code",
   "execution_count": 16,
   "metadata": {},
   "outputs": [
    {
     "data": {
      "text/plain": [
       "array([  inf,  -inf,   nan, -128.,  128.])"
      ]
     },
     "execution_count": 16,
     "metadata": {},
     "output_type": "execute_result"
    }
   ],
   "source": [
    "x = np.array([np.inf, -np.inf, np.nan, -128, 128])\n",
    "x"
   ]
  },
  {
   "cell_type": "code",
   "execution_count": 17,
   "metadata": {},
   "outputs": [
    {
     "data": {
      "text/plain": [
       "array([ 1.79769313e+308, -1.79769313e+308,  0.00000000e+000,\n",
       "       -1.28000000e+002,  1.28000000e+002])"
      ]
     },
     "execution_count": 17,
     "metadata": {},
     "output_type": "execute_result"
    }
   ],
   "source": [
    "np.nan_to_num(x)"
   ]
  },
  {
   "cell_type": "code",
   "execution_count": 20,
   "metadata": {},
   "outputs": [],
   "source": [
    "def rmsle(y, y_):\n",
    "    log1 = np.nan_to_num(np.log(y + 1))\n",
    "    log2 = np.nan_to_num(np.log(y_ + 1))\n",
    "    calc = (log1 - log2) ** 2\n",
    "    return np.sqrt(np.mean(calc))"
   ]
  },
  {
   "cell_type": "code",
   "execution_count": 22,
   "metadata": {},
   "outputs": [
    {
     "data": {
      "text/html": [
       "<div>\n",
       "<style scoped>\n",
       "    .dataframe tbody tr th:only-of-type {\n",
       "        vertical-align: middle;\n",
       "    }\n",
       "\n",
       "    .dataframe tbody tr th {\n",
       "        vertical-align: top;\n",
       "    }\n",
       "\n",
       "    .dataframe thead th {\n",
       "        text-align: right;\n",
       "    }\n",
       "</style>\n",
       "<table border=\"1\" class=\"dataframe\">\n",
       "  <thead>\n",
       "    <tr style=\"text-align: right;\">\n",
       "      <th></th>\n",
       "      <th>datetime</th>\n",
       "      <th>count</th>\n",
       "    </tr>\n",
       "  </thead>\n",
       "  <tbody>\n",
       "    <tr>\n",
       "      <th>0</th>\n",
       "      <td>2011-01-20 00:00:00</td>\n",
       "      <td>0</td>\n",
       "    </tr>\n",
       "    <tr>\n",
       "      <th>1</th>\n",
       "      <td>2011-01-20 01:00:00</td>\n",
       "      <td>0</td>\n",
       "    </tr>\n",
       "    <tr>\n",
       "      <th>2</th>\n",
       "      <td>2011-01-20 02:00:00</td>\n",
       "      <td>0</td>\n",
       "    </tr>\n",
       "    <tr>\n",
       "      <th>3</th>\n",
       "      <td>2011-01-20 03:00:00</td>\n",
       "      <td>0</td>\n",
       "    </tr>\n",
       "    <tr>\n",
       "      <th>4</th>\n",
       "      <td>2011-01-20 04:00:00</td>\n",
       "      <td>0</td>\n",
       "    </tr>\n",
       "  </tbody>\n",
       "</table>\n",
       "</div>"
      ],
      "text/plain": [
       "              datetime  count\n",
       "0  2011-01-20 00:00:00      0\n",
       "1  2011-01-20 01:00:00      0\n",
       "2  2011-01-20 02:00:00      0\n",
       "3  2011-01-20 03:00:00      0\n",
       "4  2011-01-20 04:00:00      0"
      ]
     },
     "execution_count": 22,
     "metadata": {},
     "output_type": "execute_result"
    }
   ],
   "source": [
    "submission_df = pd.read_csv(\"./data/sampleSubmission.csv\")\n",
    "submission_df.head()"
   ]
  },
  {
   "cell_type": "code",
   "execution_count": 23,
   "metadata": {},
   "outputs": [
    {
     "data": {
      "text/plain": [
       "3.7643455073416514"
      ]
     },
     "execution_count": 23,
     "metadata": {},
     "output_type": "execute_result"
    }
   ],
   "source": [
    "rmsle(submission_df['count'].values,\n",
    "      np.random.randint(0, 100, size=len(submission_df)))"
   ]
  },
  {
   "cell_type": "code",
   "execution_count": 24,
   "metadata": {},
   "outputs": [
    {
     "data": {
      "text/html": [
       "<div>\n",
       "<style scoped>\n",
       "    .dataframe tbody tr th:only-of-type {\n",
       "        vertical-align: middle;\n",
       "    }\n",
       "\n",
       "    .dataframe tbody tr th {\n",
       "        vertical-align: top;\n",
       "    }\n",
       "\n",
       "    .dataframe thead th {\n",
       "        text-align: right;\n",
       "    }\n",
       "</style>\n",
       "<table border=\"1\" class=\"dataframe\">\n",
       "  <thead>\n",
       "    <tr style=\"text-align: right;\">\n",
       "      <th></th>\n",
       "      <th>atemp</th>\n",
       "      <th>count</th>\n",
       "      <th>datetime</th>\n",
       "      <th>holiday</th>\n",
       "      <th>humidity</th>\n",
       "      <th>season</th>\n",
       "      <th>temp</th>\n",
       "      <th>weather</th>\n",
       "      <th>windspeed</th>\n",
       "      <th>workingday</th>\n",
       "    </tr>\n",
       "  </thead>\n",
       "  <tbody>\n",
       "    <tr>\n",
       "      <th>0</th>\n",
       "      <td>14.395</td>\n",
       "      <td>16.0</td>\n",
       "      <td>2011-01-01 00:00:00</td>\n",
       "      <td>0</td>\n",
       "      <td>81</td>\n",
       "      <td>1</td>\n",
       "      <td>9.84</td>\n",
       "      <td>1</td>\n",
       "      <td>0.0</td>\n",
       "      <td>0</td>\n",
       "    </tr>\n",
       "    <tr>\n",
       "      <th>1</th>\n",
       "      <td>13.635</td>\n",
       "      <td>40.0</td>\n",
       "      <td>2011-01-01 01:00:00</td>\n",
       "      <td>0</td>\n",
       "      <td>80</td>\n",
       "      <td>1</td>\n",
       "      <td>9.02</td>\n",
       "      <td>1</td>\n",
       "      <td>0.0</td>\n",
       "      <td>0</td>\n",
       "    </tr>\n",
       "    <tr>\n",
       "      <th>2</th>\n",
       "      <td>13.635</td>\n",
       "      <td>32.0</td>\n",
       "      <td>2011-01-01 02:00:00</td>\n",
       "      <td>0</td>\n",
       "      <td>80</td>\n",
       "      <td>1</td>\n",
       "      <td>9.02</td>\n",
       "      <td>1</td>\n",
       "      <td>0.0</td>\n",
       "      <td>0</td>\n",
       "    </tr>\n",
       "    <tr>\n",
       "      <th>3</th>\n",
       "      <td>14.395</td>\n",
       "      <td>13.0</td>\n",
       "      <td>2011-01-01 03:00:00</td>\n",
       "      <td>0</td>\n",
       "      <td>75</td>\n",
       "      <td>1</td>\n",
       "      <td>9.84</td>\n",
       "      <td>1</td>\n",
       "      <td>0.0</td>\n",
       "      <td>0</td>\n",
       "    </tr>\n",
       "    <tr>\n",
       "      <th>4</th>\n",
       "      <td>14.395</td>\n",
       "      <td>1.0</td>\n",
       "      <td>2011-01-01 04:00:00</td>\n",
       "      <td>0</td>\n",
       "      <td>75</td>\n",
       "      <td>1</td>\n",
       "      <td>9.84</td>\n",
       "      <td>1</td>\n",
       "      <td>0.0</td>\n",
       "      <td>0</td>\n",
       "    </tr>\n",
       "  </tbody>\n",
       "</table>\n",
       "</div>"
      ],
      "text/plain": [
       "    atemp  count            datetime  holiday  humidity  season  temp  \\\n",
       "0  14.395   16.0 2011-01-01 00:00:00        0        81       1  9.84   \n",
       "1  13.635   40.0 2011-01-01 01:00:00        0        80       1  9.02   \n",
       "2  13.635   32.0 2011-01-01 02:00:00        0        80       1  9.02   \n",
       "3  14.395   13.0 2011-01-01 03:00:00        0        75       1  9.84   \n",
       "4  14.395    1.0 2011-01-01 04:00:00        0        75       1  9.84   \n",
       "\n",
       "   weather  windspeed  workingday  \n",
       "0        1        0.0           0  \n",
       "1        1        0.0           0  \n",
       "2        1        0.0           0  \n",
       "3        1        0.0           0  \n",
       "4        1        0.0           0  "
      ]
     },
     "execution_count": 24,
     "metadata": {},
     "output_type": "execute_result"
    }
   ],
   "source": [
    "del all_df['casual']\n",
    "del all_df['registered']\n",
    "del all_df['index']\n",
    "all_df.head()"
   ]
  },
  {
   "cell_type": "code",
   "execution_count": 25,
   "metadata": {},
   "outputs": [
    {
     "data": {
      "text/html": [
       "<div>\n",
       "<style scoped>\n",
       "    .dataframe tbody tr th:only-of-type {\n",
       "        vertical-align: middle;\n",
       "    }\n",
       "\n",
       "    .dataframe tbody tr th {\n",
       "        vertical-align: top;\n",
       "    }\n",
       "\n",
       "    .dataframe thead th {\n",
       "        text-align: right;\n",
       "    }\n",
       "</style>\n",
       "<table border=\"1\" class=\"dataframe\">\n",
       "  <thead>\n",
       "    <tr style=\"text-align: right;\">\n",
       "      <th></th>\n",
       "      <th>atemp</th>\n",
       "      <th>count</th>\n",
       "      <th>datetime</th>\n",
       "      <th>holiday</th>\n",
       "      <th>humidity</th>\n",
       "      <th>season</th>\n",
       "      <th>temp</th>\n",
       "      <th>weather</th>\n",
       "      <th>windspeed</th>\n",
       "      <th>workingday</th>\n",
       "      <th>season_1</th>\n",
       "      <th>season_2</th>\n",
       "      <th>season_3</th>\n",
       "      <th>season_4</th>\n",
       "    </tr>\n",
       "  </thead>\n",
       "  <tbody>\n",
       "    <tr>\n",
       "      <th>0</th>\n",
       "      <td>14.395</td>\n",
       "      <td>16.0</td>\n",
       "      <td>2011-01-01 00:00:00</td>\n",
       "      <td>0</td>\n",
       "      <td>81</td>\n",
       "      <td>1</td>\n",
       "      <td>9.84</td>\n",
       "      <td>1</td>\n",
       "      <td>0.0</td>\n",
       "      <td>0</td>\n",
       "      <td>1</td>\n",
       "      <td>0</td>\n",
       "      <td>0</td>\n",
       "      <td>0</td>\n",
       "    </tr>\n",
       "    <tr>\n",
       "      <th>1</th>\n",
       "      <td>13.635</td>\n",
       "      <td>40.0</td>\n",
       "      <td>2011-01-01 01:00:00</td>\n",
       "      <td>0</td>\n",
       "      <td>80</td>\n",
       "      <td>1</td>\n",
       "      <td>9.02</td>\n",
       "      <td>1</td>\n",
       "      <td>0.0</td>\n",
       "      <td>0</td>\n",
       "      <td>1</td>\n",
       "      <td>0</td>\n",
       "      <td>0</td>\n",
       "      <td>0</td>\n",
       "    </tr>\n",
       "    <tr>\n",
       "      <th>2</th>\n",
       "      <td>13.635</td>\n",
       "      <td>32.0</td>\n",
       "      <td>2011-01-01 02:00:00</td>\n",
       "      <td>0</td>\n",
       "      <td>80</td>\n",
       "      <td>1</td>\n",
       "      <td>9.02</td>\n",
       "      <td>1</td>\n",
       "      <td>0.0</td>\n",
       "      <td>0</td>\n",
       "      <td>1</td>\n",
       "      <td>0</td>\n",
       "      <td>0</td>\n",
       "      <td>0</td>\n",
       "    </tr>\n",
       "    <tr>\n",
       "      <th>3</th>\n",
       "      <td>14.395</td>\n",
       "      <td>13.0</td>\n",
       "      <td>2011-01-01 03:00:00</td>\n",
       "      <td>0</td>\n",
       "      <td>75</td>\n",
       "      <td>1</td>\n",
       "      <td>9.84</td>\n",
       "      <td>1</td>\n",
       "      <td>0.0</td>\n",
       "      <td>0</td>\n",
       "      <td>1</td>\n",
       "      <td>0</td>\n",
       "      <td>0</td>\n",
       "      <td>0</td>\n",
       "    </tr>\n",
       "    <tr>\n",
       "      <th>4</th>\n",
       "      <td>14.395</td>\n",
       "      <td>1.0</td>\n",
       "      <td>2011-01-01 04:00:00</td>\n",
       "      <td>0</td>\n",
       "      <td>75</td>\n",
       "      <td>1</td>\n",
       "      <td>9.84</td>\n",
       "      <td>1</td>\n",
       "      <td>0.0</td>\n",
       "      <td>0</td>\n",
       "      <td>1</td>\n",
       "      <td>0</td>\n",
       "      <td>0</td>\n",
       "      <td>0</td>\n",
       "    </tr>\n",
       "  </tbody>\n",
       "</table>\n",
       "</div>"
      ],
      "text/plain": [
       "    atemp  count            datetime  holiday  humidity  season  temp  \\\n",
       "0  14.395   16.0 2011-01-01 00:00:00        0        81       1  9.84   \n",
       "1  13.635   40.0 2011-01-01 01:00:00        0        80       1  9.02   \n",
       "2  13.635   32.0 2011-01-01 02:00:00        0        80       1  9.02   \n",
       "3  14.395   13.0 2011-01-01 03:00:00        0        75       1  9.84   \n",
       "4  14.395    1.0 2011-01-01 04:00:00        0        75       1  9.84   \n",
       "\n",
       "   weather  windspeed  workingday  season_1  season_2  season_3  season_4  \n",
       "0        1        0.0           0         1         0         0         0  \n",
       "1        1        0.0           0         1         0         0         0  \n",
       "2        1        0.0           0         1         0         0         0  \n",
       "3        1        0.0           0         1         0         0         0  \n",
       "4        1        0.0           0         1         0         0         0  "
      ]
     },
     "execution_count": 25,
     "metadata": {},
     "output_type": "execute_result"
    }
   ],
   "source": [
    "pre_df = all_df.merge(pd.get_dummies(all_df[\"season\"], prefix=\"season\"), left_index=True, right_index=True)\n",
    "pre_df.head()"
   ]
  },
  {
   "cell_type": "code",
   "execution_count": 27,
   "metadata": {},
   "outputs": [
    {
     "data": {
      "text/html": [
       "<div>\n",
       "<style scoped>\n",
       "    .dataframe tbody tr th:only-of-type {\n",
       "        vertical-align: middle;\n",
       "    }\n",
       "\n",
       "    .dataframe tbody tr th {\n",
       "        vertical-align: top;\n",
       "    }\n",
       "\n",
       "    .dataframe thead th {\n",
       "        text-align: right;\n",
       "    }\n",
       "</style>\n",
       "<table border=\"1\" class=\"dataframe\">\n",
       "  <thead>\n",
       "    <tr style=\"text-align: right;\">\n",
       "      <th></th>\n",
       "      <th>atemp</th>\n",
       "      <th>count</th>\n",
       "      <th>datetime</th>\n",
       "      <th>holiday</th>\n",
       "      <th>humidity</th>\n",
       "      <th>season</th>\n",
       "      <th>temp</th>\n",
       "      <th>weather</th>\n",
       "      <th>windspeed</th>\n",
       "      <th>workingday</th>\n",
       "      <th>season_1</th>\n",
       "      <th>season_2</th>\n",
       "      <th>season_3</th>\n",
       "      <th>season_4</th>\n",
       "      <th>weather_1</th>\n",
       "      <th>weather_2</th>\n",
       "      <th>weather_3</th>\n",
       "      <th>weather_4</th>\n",
       "    </tr>\n",
       "  </thead>\n",
       "  <tbody>\n",
       "    <tr>\n",
       "      <th>0</th>\n",
       "      <td>14.395</td>\n",
       "      <td>16.0</td>\n",
       "      <td>2011-01-01 00:00:00</td>\n",
       "      <td>0</td>\n",
       "      <td>81</td>\n",
       "      <td>1</td>\n",
       "      <td>9.84</td>\n",
       "      <td>1</td>\n",
       "      <td>0.0</td>\n",
       "      <td>0</td>\n",
       "      <td>1</td>\n",
       "      <td>0</td>\n",
       "      <td>0</td>\n",
       "      <td>0</td>\n",
       "      <td>1</td>\n",
       "      <td>0</td>\n",
       "      <td>0</td>\n",
       "      <td>0</td>\n",
       "    </tr>\n",
       "    <tr>\n",
       "      <th>1</th>\n",
       "      <td>13.635</td>\n",
       "      <td>40.0</td>\n",
       "      <td>2011-01-01 01:00:00</td>\n",
       "      <td>0</td>\n",
       "      <td>80</td>\n",
       "      <td>1</td>\n",
       "      <td>9.02</td>\n",
       "      <td>1</td>\n",
       "      <td>0.0</td>\n",
       "      <td>0</td>\n",
       "      <td>1</td>\n",
       "      <td>0</td>\n",
       "      <td>0</td>\n",
       "      <td>0</td>\n",
       "      <td>1</td>\n",
       "      <td>0</td>\n",
       "      <td>0</td>\n",
       "      <td>0</td>\n",
       "    </tr>\n",
       "    <tr>\n",
       "      <th>2</th>\n",
       "      <td>13.635</td>\n",
       "      <td>32.0</td>\n",
       "      <td>2011-01-01 02:00:00</td>\n",
       "      <td>0</td>\n",
       "      <td>80</td>\n",
       "      <td>1</td>\n",
       "      <td>9.02</td>\n",
       "      <td>1</td>\n",
       "      <td>0.0</td>\n",
       "      <td>0</td>\n",
       "      <td>1</td>\n",
       "      <td>0</td>\n",
       "      <td>0</td>\n",
       "      <td>0</td>\n",
       "      <td>1</td>\n",
       "      <td>0</td>\n",
       "      <td>0</td>\n",
       "      <td>0</td>\n",
       "    </tr>\n",
       "    <tr>\n",
       "      <th>3</th>\n",
       "      <td>14.395</td>\n",
       "      <td>13.0</td>\n",
       "      <td>2011-01-01 03:00:00</td>\n",
       "      <td>0</td>\n",
       "      <td>75</td>\n",
       "      <td>1</td>\n",
       "      <td>9.84</td>\n",
       "      <td>1</td>\n",
       "      <td>0.0</td>\n",
       "      <td>0</td>\n",
       "      <td>1</td>\n",
       "      <td>0</td>\n",
       "      <td>0</td>\n",
       "      <td>0</td>\n",
       "      <td>1</td>\n",
       "      <td>0</td>\n",
       "      <td>0</td>\n",
       "      <td>0</td>\n",
       "    </tr>\n",
       "    <tr>\n",
       "      <th>4</th>\n",
       "      <td>14.395</td>\n",
       "      <td>1.0</td>\n",
       "      <td>2011-01-01 04:00:00</td>\n",
       "      <td>0</td>\n",
       "      <td>75</td>\n",
       "      <td>1</td>\n",
       "      <td>9.84</td>\n",
       "      <td>1</td>\n",
       "      <td>0.0</td>\n",
       "      <td>0</td>\n",
       "      <td>1</td>\n",
       "      <td>0</td>\n",
       "      <td>0</td>\n",
       "      <td>0</td>\n",
       "      <td>1</td>\n",
       "      <td>0</td>\n",
       "      <td>0</td>\n",
       "      <td>0</td>\n",
       "    </tr>\n",
       "  </tbody>\n",
       "</table>\n",
       "</div>"
      ],
      "text/plain": [
       "    atemp  count            datetime  holiday  humidity  season  temp  \\\n",
       "0  14.395   16.0 2011-01-01 00:00:00        0        81       1  9.84   \n",
       "1  13.635   40.0 2011-01-01 01:00:00        0        80       1  9.02   \n",
       "2  13.635   32.0 2011-01-01 02:00:00        0        80       1  9.02   \n",
       "3  14.395   13.0 2011-01-01 03:00:00        0        75       1  9.84   \n",
       "4  14.395    1.0 2011-01-01 04:00:00        0        75       1  9.84   \n",
       "\n",
       "   weather  windspeed  workingday  season_1  season_2  season_3  season_4  \\\n",
       "0        1        0.0           0         1         0         0         0   \n",
       "1        1        0.0           0         1         0         0         0   \n",
       "2        1        0.0           0         1         0         0         0   \n",
       "3        1        0.0           0         1         0         0         0   \n",
       "4        1        0.0           0         1         0         0         0   \n",
       "\n",
       "   weather_1  weather_2  weather_3  weather_4  \n",
       "0          1          0          0          0  \n",
       "1          1          0          0          0  \n",
       "2          1          0          0          0  \n",
       "3          1          0          0          0  \n",
       "4          1          0          0          0  "
      ]
     },
     "execution_count": 27,
     "metadata": {},
     "output_type": "execute_result"
    }
   ],
   "source": [
    "pre_df = pre_df.merge(pd.get_dummies(all_df[\"weather\"], prefix=\"weather\"), left_index=True, right_index=True)\n",
    "pre_df.head()"
   ]
  },
  {
   "cell_type": "code",
   "execution_count": 30,
   "metadata": {},
   "outputs": [],
   "source": [
    "pre_df[\"year\"] = pre_df['datetime'].dt.year\n",
    "pre_df[\"month\"] = pre_df['datetime'].dt.month\n",
    "pre_df[\"day\"] = pre_df['datetime'].dt.day\n",
    "pre_df[\"hour\"] = pre_df['datetime'].dt.hour\n",
    "pre_df[\"weekday\"] = pre_df['datetime'].dt.weekday"
   ]
  },
  {
   "cell_type": "code",
   "execution_count": 31,
   "metadata": {},
   "outputs": [
    {
     "data": {
      "text/html": [
       "<div>\n",
       "<style scoped>\n",
       "    .dataframe tbody tr th:only-of-type {\n",
       "        vertical-align: middle;\n",
       "    }\n",
       "\n",
       "    .dataframe tbody tr th {\n",
       "        vertical-align: top;\n",
       "    }\n",
       "\n",
       "    .dataframe thead th {\n",
       "        text-align: right;\n",
       "    }\n",
       "</style>\n",
       "<table border=\"1\" class=\"dataframe\">\n",
       "  <thead>\n",
       "    <tr style=\"text-align: right;\">\n",
       "      <th></th>\n",
       "      <th>atemp</th>\n",
       "      <th>count</th>\n",
       "      <th>datetime</th>\n",
       "      <th>holiday</th>\n",
       "      <th>humidity</th>\n",
       "      <th>season</th>\n",
       "      <th>temp</th>\n",
       "      <th>weather</th>\n",
       "      <th>windspeed</th>\n",
       "      <th>workingday</th>\n",
       "      <th>...</th>\n",
       "      <th>day</th>\n",
       "      <th>hour</th>\n",
       "      <th>weekday</th>\n",
       "      <th>weekday_0</th>\n",
       "      <th>weekday_1</th>\n",
       "      <th>weekday_2</th>\n",
       "      <th>weekday_3</th>\n",
       "      <th>weekday_4</th>\n",
       "      <th>weekday_5</th>\n",
       "      <th>weekday_6</th>\n",
       "    </tr>\n",
       "  </thead>\n",
       "  <tbody>\n",
       "    <tr>\n",
       "      <th>0</th>\n",
       "      <td>14.395</td>\n",
       "      <td>16.0</td>\n",
       "      <td>2011-01-01 00:00:00</td>\n",
       "      <td>0</td>\n",
       "      <td>81</td>\n",
       "      <td>1</td>\n",
       "      <td>9.84</td>\n",
       "      <td>1</td>\n",
       "      <td>0.0</td>\n",
       "      <td>0</td>\n",
       "      <td>...</td>\n",
       "      <td>1</td>\n",
       "      <td>0</td>\n",
       "      <td>5</td>\n",
       "      <td>0</td>\n",
       "      <td>0</td>\n",
       "      <td>0</td>\n",
       "      <td>0</td>\n",
       "      <td>0</td>\n",
       "      <td>1</td>\n",
       "      <td>0</td>\n",
       "    </tr>\n",
       "    <tr>\n",
       "      <th>1</th>\n",
       "      <td>13.635</td>\n",
       "      <td>40.0</td>\n",
       "      <td>2011-01-01 01:00:00</td>\n",
       "      <td>0</td>\n",
       "      <td>80</td>\n",
       "      <td>1</td>\n",
       "      <td>9.02</td>\n",
       "      <td>1</td>\n",
       "      <td>0.0</td>\n",
       "      <td>0</td>\n",
       "      <td>...</td>\n",
       "      <td>1</td>\n",
       "      <td>1</td>\n",
       "      <td>5</td>\n",
       "      <td>0</td>\n",
       "      <td>0</td>\n",
       "      <td>0</td>\n",
       "      <td>0</td>\n",
       "      <td>0</td>\n",
       "      <td>1</td>\n",
       "      <td>0</td>\n",
       "    </tr>\n",
       "    <tr>\n",
       "      <th>2</th>\n",
       "      <td>13.635</td>\n",
       "      <td>32.0</td>\n",
       "      <td>2011-01-01 02:00:00</td>\n",
       "      <td>0</td>\n",
       "      <td>80</td>\n",
       "      <td>1</td>\n",
       "      <td>9.02</td>\n",
       "      <td>1</td>\n",
       "      <td>0.0</td>\n",
       "      <td>0</td>\n",
       "      <td>...</td>\n",
       "      <td>1</td>\n",
       "      <td>2</td>\n",
       "      <td>5</td>\n",
       "      <td>0</td>\n",
       "      <td>0</td>\n",
       "      <td>0</td>\n",
       "      <td>0</td>\n",
       "      <td>0</td>\n",
       "      <td>1</td>\n",
       "      <td>0</td>\n",
       "    </tr>\n",
       "    <tr>\n",
       "      <th>3</th>\n",
       "      <td>14.395</td>\n",
       "      <td>13.0</td>\n",
       "      <td>2011-01-01 03:00:00</td>\n",
       "      <td>0</td>\n",
       "      <td>75</td>\n",
       "      <td>1</td>\n",
       "      <td>9.84</td>\n",
       "      <td>1</td>\n",
       "      <td>0.0</td>\n",
       "      <td>0</td>\n",
       "      <td>...</td>\n",
       "      <td>1</td>\n",
       "      <td>3</td>\n",
       "      <td>5</td>\n",
       "      <td>0</td>\n",
       "      <td>0</td>\n",
       "      <td>0</td>\n",
       "      <td>0</td>\n",
       "      <td>0</td>\n",
       "      <td>1</td>\n",
       "      <td>0</td>\n",
       "    </tr>\n",
       "    <tr>\n",
       "      <th>4</th>\n",
       "      <td>14.395</td>\n",
       "      <td>1.0</td>\n",
       "      <td>2011-01-01 04:00:00</td>\n",
       "      <td>0</td>\n",
       "      <td>75</td>\n",
       "      <td>1</td>\n",
       "      <td>9.84</td>\n",
       "      <td>1</td>\n",
       "      <td>0.0</td>\n",
       "      <td>0</td>\n",
       "      <td>...</td>\n",
       "      <td>1</td>\n",
       "      <td>4</td>\n",
       "      <td>5</td>\n",
       "      <td>0</td>\n",
       "      <td>0</td>\n",
       "      <td>0</td>\n",
       "      <td>0</td>\n",
       "      <td>0</td>\n",
       "      <td>1</td>\n",
       "      <td>0</td>\n",
       "    </tr>\n",
       "  </tbody>\n",
       "</table>\n",
       "<p>5 rows × 30 columns</p>\n",
       "</div>"
      ],
      "text/plain": [
       "    atemp  count            datetime  holiday  humidity  season  temp  \\\n",
       "0  14.395   16.0 2011-01-01 00:00:00        0        81       1  9.84   \n",
       "1  13.635   40.0 2011-01-01 01:00:00        0        80       1  9.02   \n",
       "2  13.635   32.0 2011-01-01 02:00:00        0        80       1  9.02   \n",
       "3  14.395   13.0 2011-01-01 03:00:00        0        75       1  9.84   \n",
       "4  14.395    1.0 2011-01-01 04:00:00        0        75       1  9.84   \n",
       "\n",
       "   weather  windspeed  workingday    ...      day  hour  weekday  weekday_0  \\\n",
       "0        1        0.0           0    ...        1     0        5          0   \n",
       "1        1        0.0           0    ...        1     1        5          0   \n",
       "2        1        0.0           0    ...        1     2        5          0   \n",
       "3        1        0.0           0    ...        1     3        5          0   \n",
       "4        1        0.0           0    ...        1     4        5          0   \n",
       "\n",
       "   weekday_1  weekday_2  weekday_3  weekday_4  weekday_5  weekday_6  \n",
       "0          0          0          0          0          1          0  \n",
       "1          0          0          0          0          1          0  \n",
       "2          0          0          0          0          1          0  \n",
       "3          0          0          0          0          1          0  \n",
       "4          0          0          0          0          1          0  \n",
       "\n",
       "[5 rows x 30 columns]"
      ]
     },
     "execution_count": 31,
     "metadata": {},
     "output_type": "execute_result"
    }
   ],
   "source": [
    "pre_df = pre_df.merge(pd.get_dummies(pre_df['weekday'], prefix=\"weekday\"), left_index=True, right_index=True)\n",
    "pre_df.head()"
   ]
  },
  {
   "cell_type": "code",
   "execution_count": 34,
   "metadata": {},
   "outputs": [
    {
     "data": {
      "text/plain": [
       "atemp                float64\n",
       "count                float64\n",
       "datetime      datetime64[ns]\n",
       "holiday                int64\n",
       "humidity               int64\n",
       "season                 int64\n",
       "temp                 float64\n",
       "weather                int64\n",
       "windspeed            float64\n",
       "workingday             int64\n",
       "season_1               uint8\n",
       "season_2               uint8\n",
       "season_3               uint8\n",
       "season_4               uint8\n",
       "weather_1              uint8\n",
       "weather_2              uint8\n",
       "weather_3              uint8\n",
       "weather_4              uint8\n",
       "year                   int64\n",
       "month                  int64\n",
       "day                    int64\n",
       "hour                   int64\n",
       "weekday                int64\n",
       "weekday_0              uint8\n",
       "weekday_1              uint8\n",
       "weekday_2              uint8\n",
       "weekday_3              uint8\n",
       "weekday_4              uint8\n",
       "weekday_5              uint8\n",
       "weekday_6              uint8\n",
       "dtype: object"
      ]
     },
     "execution_count": 34,
     "metadata": {},
     "output_type": "execute_result"
    }
   ],
   "source": [
    "pre_df.dtypes"
   ]
  },
  {
   "cell_type": "code",
   "execution_count": 35,
   "metadata": {},
   "outputs": [
    {
     "data": {
      "text/plain": [
       "array([0, 1], dtype=int64)"
      ]
     },
     "execution_count": 35,
     "metadata": {},
     "output_type": "execute_result"
    }
   ],
   "source": [
    "pre_df['holiday'].unique()"
   ]
  },
  {
   "cell_type": "code",
   "execution_count": 36,
   "metadata": {},
   "outputs": [
    {
     "data": {
      "text/plain": [
       "array([0, 1], dtype=int64)"
      ]
     },
     "execution_count": 36,
     "metadata": {},
     "output_type": "execute_result"
    }
   ],
   "source": [
    "pre_df['workingday'].unique()"
   ]
  },
  {
   "cell_type": "code",
   "execution_count": 37,
   "metadata": {},
   "outputs": [],
   "source": [
    "category_variable_list = [\"season\", \"season_1\", \"season_2\", \"season_3\", \"season_4\",\n",
    "                          \"weather\", \"weather_1\", \"weather_2\", \"weather_3\", \"weather_4\",\n",
    "                          \"weekday\", \"weekday_0\", \"weekday_1\", \"weekday_2\", \"weekday_3\", \"weekday_4\", \"weekday_5\", \"weekday_6\",\n",
    "                          \"holiday\", \"workingday\", \"year\", \"month\", \"day\", \"hour\"]\n",
    "for var_name in category_variable_list:\n",
    "    pre_df[var_name] = pre_df[var_name].astype(\"category\")"
   ]
  },
  {
   "cell_type": "code",
   "execution_count": 38,
   "metadata": {},
   "outputs": [
    {
     "data": {
      "text/plain": [
       "atemp                float64\n",
       "count                float64\n",
       "datetime      datetime64[ns]\n",
       "holiday             category\n",
       "humidity               int64\n",
       "season              category\n",
       "temp                 float64\n",
       "weather             category\n",
       "windspeed            float64\n",
       "workingday          category\n",
       "season_1            category\n",
       "season_2            category\n",
       "season_3            category\n",
       "season_4            category\n",
       "weather_1           category\n",
       "weather_2           category\n",
       "weather_3           category\n",
       "weather_4           category\n",
       "year                category\n",
       "month               category\n",
       "day                 category\n",
       "hour                category\n",
       "weekday             category\n",
       "weekday_0           category\n",
       "weekday_1           category\n",
       "weekday_2           category\n",
       "weekday_3           category\n",
       "weekday_4           category\n",
       "weekday_5           category\n",
       "weekday_6           category\n",
       "dtype: object"
      ]
     },
     "execution_count": 38,
     "metadata": {},
     "output_type": "execute_result"
    }
   ],
   "source": [
    "pre_df.dtypes"
   ]
  },
  {
   "cell_type": "code",
   "execution_count": 40,
   "metadata": {},
   "outputs": [
    {
     "data": {
      "text/html": [
       "<div>\n",
       "<style scoped>\n",
       "    .dataframe tbody tr th:only-of-type {\n",
       "        vertical-align: middle;\n",
       "    }\n",
       "\n",
       "    .dataframe tbody tr th {\n",
       "        vertical-align: top;\n",
       "    }\n",
       "\n",
       "    .dataframe thead th {\n",
       "        text-align: right;\n",
       "    }\n",
       "</style>\n",
       "<table border=\"1\" class=\"dataframe\">\n",
       "  <thead>\n",
       "    <tr style=\"text-align: right;\">\n",
       "      <th></th>\n",
       "      <th>atemp</th>\n",
       "      <th>count</th>\n",
       "      <th>datetime</th>\n",
       "      <th>holiday</th>\n",
       "      <th>humidity</th>\n",
       "      <th>season</th>\n",
       "      <th>temp</th>\n",
       "      <th>weather</th>\n",
       "      <th>windspeed</th>\n",
       "      <th>workingday</th>\n",
       "      <th>...</th>\n",
       "      <th>day</th>\n",
       "      <th>hour</th>\n",
       "      <th>weekday</th>\n",
       "      <th>weekday_0</th>\n",
       "      <th>weekday_1</th>\n",
       "      <th>weekday_2</th>\n",
       "      <th>weekday_3</th>\n",
       "      <th>weekday_4</th>\n",
       "      <th>weekday_5</th>\n",
       "      <th>weekday_6</th>\n",
       "    </tr>\n",
       "  </thead>\n",
       "  <tbody>\n",
       "    <tr>\n",
       "      <th>10881</th>\n",
       "      <td>19.695</td>\n",
       "      <td>336.0</td>\n",
       "      <td>2012-12-19 19:00:00</td>\n",
       "      <td>0</td>\n",
       "      <td>50</td>\n",
       "      <td>4</td>\n",
       "      <td>15.58</td>\n",
       "      <td>1</td>\n",
       "      <td>26.0027</td>\n",
       "      <td>1</td>\n",
       "      <td>...</td>\n",
       "      <td>19</td>\n",
       "      <td>19</td>\n",
       "      <td>2</td>\n",
       "      <td>0</td>\n",
       "      <td>0</td>\n",
       "      <td>1</td>\n",
       "      <td>0</td>\n",
       "      <td>0</td>\n",
       "      <td>0</td>\n",
       "      <td>0</td>\n",
       "    </tr>\n",
       "    <tr>\n",
       "      <th>10882</th>\n",
       "      <td>17.425</td>\n",
       "      <td>241.0</td>\n",
       "      <td>2012-12-19 20:00:00</td>\n",
       "      <td>0</td>\n",
       "      <td>57</td>\n",
       "      <td>4</td>\n",
       "      <td>14.76</td>\n",
       "      <td>1</td>\n",
       "      <td>15.0013</td>\n",
       "      <td>1</td>\n",
       "      <td>...</td>\n",
       "      <td>19</td>\n",
       "      <td>20</td>\n",
       "      <td>2</td>\n",
       "      <td>0</td>\n",
       "      <td>0</td>\n",
       "      <td>1</td>\n",
       "      <td>0</td>\n",
       "      <td>0</td>\n",
       "      <td>0</td>\n",
       "      <td>0</td>\n",
       "    </tr>\n",
       "    <tr>\n",
       "      <th>10883</th>\n",
       "      <td>15.910</td>\n",
       "      <td>168.0</td>\n",
       "      <td>2012-12-19 21:00:00</td>\n",
       "      <td>0</td>\n",
       "      <td>61</td>\n",
       "      <td>4</td>\n",
       "      <td>13.94</td>\n",
       "      <td>1</td>\n",
       "      <td>15.0013</td>\n",
       "      <td>1</td>\n",
       "      <td>...</td>\n",
       "      <td>19</td>\n",
       "      <td>21</td>\n",
       "      <td>2</td>\n",
       "      <td>0</td>\n",
       "      <td>0</td>\n",
       "      <td>1</td>\n",
       "      <td>0</td>\n",
       "      <td>0</td>\n",
       "      <td>0</td>\n",
       "      <td>0</td>\n",
       "    </tr>\n",
       "    <tr>\n",
       "      <th>10884</th>\n",
       "      <td>17.425</td>\n",
       "      <td>129.0</td>\n",
       "      <td>2012-12-19 22:00:00</td>\n",
       "      <td>0</td>\n",
       "      <td>61</td>\n",
       "      <td>4</td>\n",
       "      <td>13.94</td>\n",
       "      <td>1</td>\n",
       "      <td>6.0032</td>\n",
       "      <td>1</td>\n",
       "      <td>...</td>\n",
       "      <td>19</td>\n",
       "      <td>22</td>\n",
       "      <td>2</td>\n",
       "      <td>0</td>\n",
       "      <td>0</td>\n",
       "      <td>1</td>\n",
       "      <td>0</td>\n",
       "      <td>0</td>\n",
       "      <td>0</td>\n",
       "      <td>0</td>\n",
       "    </tr>\n",
       "    <tr>\n",
       "      <th>10885</th>\n",
       "      <td>16.665</td>\n",
       "      <td>88.0</td>\n",
       "      <td>2012-12-19 23:00:00</td>\n",
       "      <td>0</td>\n",
       "      <td>66</td>\n",
       "      <td>4</td>\n",
       "      <td>13.12</td>\n",
       "      <td>1</td>\n",
       "      <td>8.9981</td>\n",
       "      <td>1</td>\n",
       "      <td>...</td>\n",
       "      <td>19</td>\n",
       "      <td>23</td>\n",
       "      <td>2</td>\n",
       "      <td>0</td>\n",
       "      <td>0</td>\n",
       "      <td>1</td>\n",
       "      <td>0</td>\n",
       "      <td>0</td>\n",
       "      <td>0</td>\n",
       "      <td>0</td>\n",
       "    </tr>\n",
       "  </tbody>\n",
       "</table>\n",
       "<p>5 rows × 30 columns</p>\n",
       "</div>"
      ],
      "text/plain": [
       "        atemp  count            datetime holiday  humidity season   temp  \\\n",
       "10881  19.695  336.0 2012-12-19 19:00:00       0        50      4  15.58   \n",
       "10882  17.425  241.0 2012-12-19 20:00:00       0        57      4  14.76   \n",
       "10883  15.910  168.0 2012-12-19 21:00:00       0        61      4  13.94   \n",
       "10884  17.425  129.0 2012-12-19 22:00:00       0        61      4  13.94   \n",
       "10885  16.665   88.0 2012-12-19 23:00:00       0        66      4  13.12   \n",
       "\n",
       "      weather  windspeed workingday    ...    day hour weekday weekday_0  \\\n",
       "10881       1    26.0027          1    ...     19   19       2         0   \n",
       "10882       1    15.0013          1    ...     19   20       2         0   \n",
       "10883       1    15.0013          1    ...     19   21       2         0   \n",
       "10884       1     6.0032          1    ...     19   22       2         0   \n",
       "10885       1     8.9981          1    ...     19   23       2         0   \n",
       "\n",
       "      weekday_1 weekday_2 weekday_3 weekday_4 weekday_5 weekday_6  \n",
       "10881         0         1         0         0         0         0  \n",
       "10882         0         1         0         0         0         0  \n",
       "10883         0         1         0         0         0         0  \n",
       "10884         0         1         0         0         0         0  \n",
       "10885         0         1         0         0         0         0  \n",
       "\n",
       "[5 rows x 30 columns]"
      ]
     },
     "execution_count": 40,
     "metadata": {},
     "output_type": "execute_result"
    }
   ],
   "source": [
    "# 가공된 train 데이터 뽑아내기\n",
    "train_df = pre_df.iloc[train_index]\n",
    "train_df.tail()"
   ]
  },
  {
   "cell_type": "code",
   "execution_count": 41,
   "metadata": {},
   "outputs": [
    {
     "data": {
      "image/png": "[encoded data removed]",
      "text/plain": [
       "<Figure size 864x360 with 9 Axes>"
      ]
     },
     "metadata": {},
     "output_type": "display_data"
    }
   ],
   "source": [
    "fig, axes = plt.subplots(nrows=3, ncols=3)\n",
    "fig.set_size_inches(12, 5)\n",
    "axes[0][0].bar(train_df[\"year\"], train_df[\"count\"])\n",
    "axes[0][1].bar(train_df[\"weather\"], train_df[\"count\"])\n",
    "axes[0][2].bar(train_df[\"workingday\"], train_df[\"count\"])\n",
    "axes[1][0].bar(train_df[\"holiday\"], train_df[\"count\"])\n",
    "axes[1][1].bar(train_df[\"weekday\"], train_df[\"count\"])\n",
    "axes[1][2].bar(train_df[\"month\"], train_df[\"count\"])\n",
    "axes[2][0].bar(train_df[\"day\"], train_df[\"count\"])\n",
    "axes[2][1].bar(train_df[\"hour\"], train_df[\"count\"])\n",
    "plt.show()"
   ]
  },
  {
   "cell_type": "code",
   "execution_count": 42,
   "metadata": {},
   "outputs": [
    {
     "data": {
      "text/plain": [
       "month\n",
       "1      90.366516\n",
       "2     110.003330\n",
       "3     148.169811\n",
       "4     184.160616\n",
       "5     219.459430\n",
       "6     242.031798\n",
       "7     235.325658\n",
       "8     234.118421\n",
       "9     233.805281\n",
       "10    227.699232\n",
       "11    193.677278\n",
       "12    175.614035\n",
       "Name: count, dtype: float64"
      ]
     },
     "execution_count": 42,
     "metadata": {},
     "output_type": "execute_result"
    }
   ],
   "source": [
    "series_data = train_df.groupby([\"month\"])[\"count\"].mean()\n",
    "series_data"
   ]
  },
  {
   "cell_type": "code",
   "execution_count": 43,
   "metadata": {},
   "outputs": [
    {
     "data": {
      "text/plain": [
       "[1, 2, 3, 4, 5, 6, 7, 8, 9, 10, 11, 12]"
      ]
     },
     "execution_count": 43,
     "metadata": {},
     "output_type": "execute_result"
    }
   ],
   "source": [
    "series_data.index.tolist()"
   ]
  },
  {
   "cell_type": "code",
   "execution_count": 44,
   "metadata": {},
   "outputs": [
    {
     "data": {
      "image/png": "[encoded data removed]",
      "text/plain": [
       "<Figure size 864x360 with 1 Axes>"
      ]
     },
     "metadata": {},
     "output_type": "display_data"
    }
   ],
   "source": [
    "fig, ax = plt.subplots()\n",
    "ax.bar(range(len(series_data)), series_data)\n",
    "fig.set_size_inches(12, 5)\n",
    "plt.show()"
   ]
  },
  {
   "cell_type": "code",
   "execution_count": 47,
   "metadata": {},
   "outputs": [
    {
     "data": {
      "image/png": "[encoded data removed]",
      "text/plain": [
       "<Figure size 864x360 with 3 Axes>"
      ]
     },
     "metadata": {},
     "output_type": "display_data"
    }
   ],
   "source": [
    "import seaborn as sn\n",
    "\n",
    "fig, (ax1, ax2, ax3) = plt.subplots(ncols=3)\n",
    "fig.set_size_inches(12, 5)\n",
    "sn.regplot(x=\"temp\", y=\"count\", data=train_df, ax=ax1)\n",
    "sn.regplot(x=\"windspeed\", y=\"count\", data=train_df, ax=ax2)\n",
    "sn.regplot(x=\"humidity\", y=\"count\", data=train_df, ax=ax3)\n",
    "plt.show()"
   ]
  },
  {
   "cell_type": "code",
   "execution_count": 48,
   "metadata": {},
   "outputs": [
    {
     "data": {
      "text/plain": [
       "['season',\n",
       " 'season_1',\n",
       " 'season_2',\n",
       " 'season_3',\n",
       " 'season_4',\n",
       " 'weather',\n",
       " 'weather_1',\n",
       " 'weather_2',\n",
       " 'weather_3',\n",
       " 'weather_4',\n",
       " 'weekday',\n",
       " 'weekday_0',\n",
       " 'weekday_1',\n",
       " 'weekday_2',\n",
       " 'weekday_3',\n",
       " 'weekday_4',\n",
       " 'weekday_5',\n",
       " 'weekday_6',\n",
       " 'holiday',\n",
       " 'workingday',\n",
       " 'year',\n",
       " 'month',\n",
       " 'day',\n",
       " 'hour']"
      ]
     },
     "execution_count": 48,
     "metadata": {},
     "output_type": "execute_result"
    }
   ],
   "source": [
    "category_variable_list"
   ]
  },
  {
   "cell_type": "code",
   "execution_count": 56,
   "metadata": {},
   "outputs": [
    {
     "data": {
      "image/png": "[encoded data removed]",
      "text/plain": [
       "<Figure size 1440x720 with 2 Axes>"
      ]
     },
     "metadata": {},
     "output_type": "display_data"
    }
   ],
   "source": [
    "corrMatt = train_df[[\"temp\", \"atemp\", \"humidity\", \"windspeed\", \"count\"]].corr()\n",
    "mask = np.array(corrMatt)\n",
    "mask[np.tril_indices_from(mask)] = False\n",
    "fig, ax = plt.subplots()\n",
    "fig.set_size_inches(20,10)\n",
    "sn.heatmap(corrMatt, mask=mask, square=True, annot=True)\n",
    "plt.show()"
   ]
  },
  {
   "cell_type": "code",
   "execution_count": 61,
   "metadata": {},
   "outputs": [],
   "source": [
    "continuous_variable_list = [\"temp\", \"atemp\", \"humidity\", \"windspeed\"]"
   ]
  },
  {
   "cell_type": "code",
   "execution_count": 62,
   "metadata": {},
   "outputs": [],
   "source": [
    "season_list = [\"season_1\", \"season_2\", \"season_3\", \"season_4\"]\n",
    "weather_list = [\"weather_1\", \"weather_2\", \"weather_3\", \"weather_4\"]\n",
    "weekday_list = [\"weekday_0\", \"weekday_1\", \"weekday_2\", \"weekday_3\", \"weekday_4\", \"weekday_5\", \"weekday_6\"]"
   ]
  },
  {
   "cell_type": "code",
   "execution_count": 63,
   "metadata": {},
   "outputs": [],
   "source": [
    "category_variable_list = [\"season\", \"holiday\", \"workingday\", \"weather\", \"weekday\", \"month\", \"year\", \"hour\"]"
   ]
  },
  {
   "cell_type": "code",
   "execution_count": 64,
   "metadata": {},
   "outputs": [],
   "source": [
    "all_variable_list = continuous_variable_list + category_variable_list"
   ]
  },
  {
   "cell_type": "code",
   "execution_count": 65,
   "metadata": {},
   "outputs": [],
   "source": [
    "all_variable_list.append(season_list)\n",
    "all_variable_list.append(weather_list)\n",
    "all_variable_list.append(weekday_list)"
   ]
  },
  {
   "cell_type": "code",
   "execution_count": 66,
   "metadata": {},
   "outputs": [
    {
     "data": {
      "text/plain": [
       "['temp',\n",
       " 'atemp',\n",
       " 'humidity',\n",
       " 'windspeed',\n",
       " 'season',\n",
       " 'holiday',\n",
       " 'workingday',\n",
       " 'weather',\n",
       " 'weekday',\n",
       " 'month',\n",
       " 'year',\n",
       " 'hour',\n",
       " ['season_1', 'season_2', 'season_3', 'season_4'],\n",
       " ['weather_1', 'weather_2', 'weather_3', 'weather_4'],\n",
       " ['weekday_0',\n",
       "  'weekday_1',\n",
       "  'weekday_2',\n",
       "  'weekday_3',\n",
       "  'weekday_4',\n",
       "  'weekday_5',\n",
       "  'weekday_6']]"
      ]
     },
     "execution_count": 66,
     "metadata": {},
     "output_type": "execute_result"
    }
   ],
   "source": [
    "all_variable_list"
   ]
  },
  {
   "cell_type": "code",
   "execution_count": 67,
   "metadata": {},
   "outputs": [
    {
     "data": {
      "text/plain": [
       "15"
      ]
     },
     "execution_count": 67,
     "metadata": {},
     "output_type": "execute_result"
    }
   ],
   "source": [
    "number_of_variables = len(all_variable_list)\n",
    "number_of_variables"
   ]
  },
  {
   "cell_type": "code",
   "execution_count": 95,
   "metadata": {},
   "outputs": [
    {
     "data": {
      "text/plain": [
       "[['temp',\n",
       "  'atemp',\n",
       "  'humidity',\n",
       "  'windspeed',\n",
       "  'season',\n",
       "  'holiday',\n",
       "  'workingday',\n",
       "  'weather',\n",
       "  'weekday',\n",
       "  'month',\n",
       "  'year'],\n",
       " ['temp',\n",
       "  'atemp',\n",
       "  'humidity',\n",
       "  'windspeed',\n",
       "  'season',\n",
       "  'holiday',\n",
       "  'workingday',\n",
       "  'weather',\n",
       "  'weekday',\n",
       "  'month',\n",
       "  'hour'],\n",
       " ['temp',\n",
       "  'atemp',\n",
       "  'humidity',\n",
       "  'windspeed',\n",
       "  'season',\n",
       "  'holiday',\n",
       "  'workingday',\n",
       "  'weather',\n",
       "  'weekday',\n",
       "  'month',\n",
       "  'season_1',\n",
       "  'season_2',\n",
       "  'season_3',\n",
       "  'season_4'],\n",
       " ['temp',\n",
       "  'atemp',\n",
       "  'humidity',\n",
       "  'windspeed',\n",
       "  'season',\n",
       "  'holiday',\n",
       "  'workingday',\n",
       "  'weather',\n",
       "  'weekday',\n",
       "  'month',\n",
       "  'weather_1',\n",
       "  'weather_2',\n",
       "  'weather_3',\n",
       "  'weather_4'],\n",
       " ['temp',\n",
       "  'atemp',\n",
       "  'humidity',\n",
       "  'windspeed',\n",
       "  'season',\n",
       "  'holiday',\n",
       "  'workingday',\n",
       "  'weather',\n",
       "  'weekday',\n",
       "  'month',\n",
       "  'weekday_0',\n",
       "  'weekday_1',\n",
       "  'weekday_2',\n",
       "  'weekday_3',\n",
       "  'weekday_4',\n",
       "  'weekday_5',\n",
       "  'weekday_6']]"
      ]
     },
     "execution_count": 95,
     "metadata": {},
     "output_type": "execute_result"
    }
   ],
   "source": [
    "variable_combinations = []\n",
    "import itertools\n",
    "for L in range(11, 12):\n",
    "    for subset in itertools.combinations(all_variable_list, L):\n",
    "        temp = []\n",
    "        for variable in subset:\n",
    "            if isinstance(variable, list):\n",
    "                for value in variable:\n",
    "                    temp.append(value)\n",
    "            else:\n",
    "                temp.append(variable)\n",
    "        variable_combinations.append(temp)\n",
    "        \n",
    "variable_combinations[0:5]"
   ]
  },
  {
   "cell_type": "code",
   "execution_count": 96,
   "metadata": {},
   "outputs": [
    {
     "data": {
      "text/plain": [
       "1365"
      ]
     },
     "execution_count": 96,
     "metadata": {},
     "output_type": "execute_result"
    }
   ],
   "source": [
    "len(variable_combinations)"
   ]
  },
  {
   "cell_type": "code",
   "execution_count": 72,
   "metadata": {},
   "outputs": [
    {
     "data": {
      "text/html": [
       "<div>\n",
       "<style scoped>\n",
       "    .dataframe tbody tr th:only-of-type {\n",
       "        vertical-align: middle;\n",
       "    }\n",
       "\n",
       "    .dataframe tbody tr th {\n",
       "        vertical-align: top;\n",
       "    }\n",
       "\n",
       "    .dataframe thead th {\n",
       "        text-align: right;\n",
       "    }\n",
       "</style>\n",
       "<table border=\"1\" class=\"dataframe\">\n",
       "  <thead>\n",
       "    <tr style=\"text-align: right;\">\n",
       "      <th></th>\n",
       "      <th>atemp</th>\n",
       "      <th>count</th>\n",
       "      <th>datetime</th>\n",
       "      <th>holiday</th>\n",
       "      <th>humidity</th>\n",
       "      <th>season</th>\n",
       "      <th>temp</th>\n",
       "      <th>weather</th>\n",
       "      <th>windspeed</th>\n",
       "      <th>workingday</th>\n",
       "      <th>...</th>\n",
       "      <th>day</th>\n",
       "      <th>hour</th>\n",
       "      <th>weekday</th>\n",
       "      <th>weekday_0</th>\n",
       "      <th>weekday_1</th>\n",
       "      <th>weekday_2</th>\n",
       "      <th>weekday_3</th>\n",
       "      <th>weekday_4</th>\n",
       "      <th>weekday_5</th>\n",
       "      <th>weekday_6</th>\n",
       "    </tr>\n",
       "  </thead>\n",
       "  <tbody>\n",
       "    <tr>\n",
       "      <th>0</th>\n",
       "      <td>14.395</td>\n",
       "      <td>16.0</td>\n",
       "      <td>2011-01-01 00:00:00</td>\n",
       "      <td>0</td>\n",
       "      <td>81</td>\n",
       "      <td>1</td>\n",
       "      <td>9.84</td>\n",
       "      <td>1</td>\n",
       "      <td>0.0</td>\n",
       "      <td>0</td>\n",
       "      <td>...</td>\n",
       "      <td>1</td>\n",
       "      <td>0</td>\n",
       "      <td>5</td>\n",
       "      <td>0</td>\n",
       "      <td>0</td>\n",
       "      <td>0</td>\n",
       "      <td>0</td>\n",
       "      <td>0</td>\n",
       "      <td>1</td>\n",
       "      <td>0</td>\n",
       "    </tr>\n",
       "    <tr>\n",
       "      <th>1</th>\n",
       "      <td>13.635</td>\n",
       "      <td>40.0</td>\n",
       "      <td>2011-01-01 01:00:00</td>\n",
       "      <td>0</td>\n",
       "      <td>80</td>\n",
       "      <td>1</td>\n",
       "      <td>9.02</td>\n",
       "      <td>1</td>\n",
       "      <td>0.0</td>\n",
       "      <td>0</td>\n",
       "      <td>...</td>\n",
       "      <td>1</td>\n",
       "      <td>1</td>\n",
       "      <td>5</td>\n",
       "      <td>0</td>\n",
       "      <td>0</td>\n",
       "      <td>0</td>\n",
       "      <td>0</td>\n",
       "      <td>0</td>\n",
       "      <td>1</td>\n",
       "      <td>0</td>\n",
       "    </tr>\n",
       "    <tr>\n",
       "      <th>2</th>\n",
       "      <td>13.635</td>\n",
       "      <td>32.0</td>\n",
       "      <td>2011-01-01 02:00:00</td>\n",
       "      <td>0</td>\n",
       "      <td>80</td>\n",
       "      <td>1</td>\n",
       "      <td>9.02</td>\n",
       "      <td>1</td>\n",
       "      <td>0.0</td>\n",
       "      <td>0</td>\n",
       "      <td>...</td>\n",
       "      <td>1</td>\n",
       "      <td>2</td>\n",
       "      <td>5</td>\n",
       "      <td>0</td>\n",
       "      <td>0</td>\n",
       "      <td>0</td>\n",
       "      <td>0</td>\n",
       "      <td>0</td>\n",
       "      <td>1</td>\n",
       "      <td>0</td>\n",
       "    </tr>\n",
       "    <tr>\n",
       "      <th>3</th>\n",
       "      <td>14.395</td>\n",
       "      <td>13.0</td>\n",
       "      <td>2011-01-01 03:00:00</td>\n",
       "      <td>0</td>\n",
       "      <td>75</td>\n",
       "      <td>1</td>\n",
       "      <td>9.84</td>\n",
       "      <td>1</td>\n",
       "      <td>0.0</td>\n",
       "      <td>0</td>\n",
       "      <td>...</td>\n",
       "      <td>1</td>\n",
       "      <td>3</td>\n",
       "      <td>5</td>\n",
       "      <td>0</td>\n",
       "      <td>0</td>\n",
       "      <td>0</td>\n",
       "      <td>0</td>\n",
       "      <td>0</td>\n",
       "      <td>1</td>\n",
       "      <td>0</td>\n",
       "    </tr>\n",
       "    <tr>\n",
       "      <th>4</th>\n",
       "      <td>14.395</td>\n",
       "      <td>1.0</td>\n",
       "      <td>2011-01-01 04:00:00</td>\n",
       "      <td>0</td>\n",
       "      <td>75</td>\n",
       "      <td>1</td>\n",
       "      <td>9.84</td>\n",
       "      <td>1</td>\n",
       "      <td>0.0</td>\n",
       "      <td>0</td>\n",
       "      <td>...</td>\n",
       "      <td>1</td>\n",
       "      <td>4</td>\n",
       "      <td>5</td>\n",
       "      <td>0</td>\n",
       "      <td>0</td>\n",
       "      <td>0</td>\n",
       "      <td>0</td>\n",
       "      <td>0</td>\n",
       "      <td>1</td>\n",
       "      <td>0</td>\n",
       "    </tr>\n",
       "  </tbody>\n",
       "</table>\n",
       "<p>5 rows × 30 columns</p>\n",
       "</div>"
      ],
      "text/plain": [
       "    atemp  count            datetime holiday  humidity season  temp weather  \\\n",
       "0  14.395   16.0 2011-01-01 00:00:00       0        81      1  9.84       1   \n",
       "1  13.635   40.0 2011-01-01 01:00:00       0        80      1  9.02       1   \n",
       "2  13.635   32.0 2011-01-01 02:00:00       0        80      1  9.02       1   \n",
       "3  14.395   13.0 2011-01-01 03:00:00       0        75      1  9.84       1   \n",
       "4  14.395    1.0 2011-01-01 04:00:00       0        75      1  9.84       1   \n",
       "\n",
       "   windspeed workingday    ...    day hour weekday weekday_0 weekday_1  \\\n",
       "0        0.0          0    ...      1    0       5         0         0   \n",
       "1        0.0          0    ...      1    1       5         0         0   \n",
       "2        0.0          0    ...      1    2       5         0         0   \n",
       "3        0.0          0    ...      1    3       5         0         0   \n",
       "4        0.0          0    ...      1    4       5         0         0   \n",
       "\n",
       "  weekday_2 weekday_3 weekday_4 weekday_5 weekday_6  \n",
       "0         0         0         0         1         0  \n",
       "1         0         0         0         1         0  \n",
       "2         0         0         0         1         0  \n",
       "3         0         0         0         1         0  \n",
       "4         0         0         0         1         0  \n",
       "\n",
       "[5 rows x 30 columns]"
      ]
     },
     "execution_count": 72,
     "metadata": {},
     "output_type": "execute_result"
    }
   ],
   "source": [
    "pre_df.head()"
   ]
  },
  {
   "cell_type": "code",
   "execution_count": 73,
   "metadata": {},
   "outputs": [],
   "source": [
    "del pre_df['count']"
   ]
  },
  {
   "cell_type": "code",
   "execution_count": 97,
   "metadata": {
    "scrolled": true
   },
   "outputs": [
    {
     "name": "stdout",
     "output_type": "stream",
     "text": [
      "1365\n"
     ]
    },
    {
     "name": "stderr",
     "output_type": "stream",
     "text": [
      "C:\\Users\\Daehun\\Anaconda3\\lib\\site-packages\\sklearn\\utils\\validation.py:475: DataConversionWarning: Data with input dtype object was converted to float64 by StandardScaler.\n",
      "  warnings.warn(msg, DataConversionWarning)\n",
      "C:\\Users\\Daehun\\Anaconda3\\lib\\site-packages\\ipykernel_launcher.py:3: RuntimeWarning: invalid value encountered in log\n",
      "  This is separate from the ipykernel package so we can avoid doing imports until\n"
     ]
    },
    {
     "name": "stdout",
     "output_type": "stream",
     "text": [
      "0 0:00:00.356253\n",
      "100 0:00:56.758395\n",
      "200 0:01:05.177388\n",
      "300 0:01:05.317488\n",
      "400 0:01:04.436861\n",
      "500 0:01:05.530638\n",
      "600 0:01:12.701742\n",
      "700 0:01:14.271860\n",
      "800 0:00:45.034061\n",
      "900 0:00:46.101812\n",
      "1000 0:00:53.204865\n",
      "1100 0:00:39.708260\n",
      "1200 0:00:39.684245\n",
      "1300 0:00:51.985998\n"
     ]
    }
   ],
   "source": [
    "from sklearn.linear_model import LinearRegression, Ridge, Lasso\n",
    "from sklearn.preprocessing import StandardScaler\n",
    "from sklearn.model_selection import KFold\n",
    "import datetime\n",
    "import warnings\n",
    "warnings.filterwarnings(action='once')\n",
    "\n",
    "kf = KFold(n_splits=10)\n",
    "\n",
    "y = train_df[\"count\"].values\n",
    "final_output = []\n",
    "models = []\n",
    "\n",
    "print(len(variable_combinations))\n",
    "ts = datetime.datetime.now()\n",
    "\n",
    "for i, combination in enumerate(variable_combinations):\n",
    "    lr = LinearRegression(n_jobs=8)\n",
    "    ridge = Ridge()\n",
    "    lasso = Lasso()\n",
    "    \n",
    "    lr_result = []\n",
    "    ridge_result = []\n",
    "    lasso_result = []\n",
    "    \n",
    "    target_df = pre_df[combination]\n",
    "    All = target_df.values\n",
    "    std = StandardScaler()\n",
    "    std.fit(All)\n",
    "    All_scaled = std.transform(All)\n",
    "    X = All_scaled[train_index]\n",
    "    \n",
    "    for train_data_index, test_data_index in kf.split(X):\n",
    "        X_train = X[train_data_index]\n",
    "        X_test = X[test_data_index]\n",
    "        y_train = y[train_data_index]\n",
    "        y_test = y[test_data_index]\n",
    "        \n",
    "        lr.fit(X_train, y_train)\n",
    "        result = rmsle(y_test, lr.predict(X_test))\n",
    "        lr_result.append(result)\n",
    "        \n",
    "        ridge.fit(X_train, y_train)\n",
    "        result = rmsle(y_test, ridge.predict(X_test))\n",
    "        ridge_result.append(result)\n",
    "        \n",
    "        lasso.fit(X_train, y_train)\n",
    "        result = rmsle(y_test, lasso.predict(X_test))\n",
    "        lasso_result.append(result)\n",
    "        \n",
    "    final_output.append([i, np.mean(lr_result), np.mean(ridge_result), np.mean(lasso_result)])\n",
    "    models.append([lr, ridge, lasso])\n",
    "    \n",
    "    if i % 100 == 0:\n",
    "        tf = datetime.datetime.now()\n",
    "        te = tf - ts\n",
    "        print(i, te)\n",
    "        ts = datetime.datetime.now()"
   ]
  },
  {
   "cell_type": "code",
   "execution_count": 98,
   "metadata": {},
   "outputs": [
    {
     "data": {
      "text/html": [
       "<div>\n",
       "<style scoped>\n",
       "    .dataframe tbody tr th:only-of-type {\n",
       "        vertical-align: middle;\n",
       "    }\n",
       "\n",
       "    .dataframe tbody tr th {\n",
       "        vertical-align: top;\n",
       "    }\n",
       "\n",
       "    .dataframe thead th {\n",
       "        text-align: right;\n",
       "    }\n",
       "</style>\n",
       "<table border=\"1\" class=\"dataframe\">\n",
       "  <thead>\n",
       "    <tr style=\"text-align: right;\">\n",
       "      <th></th>\n",
       "      <th>combination</th>\n",
       "      <th>lr</th>\n",
       "      <th>ridge</th>\n",
       "      <th>lasso</th>\n",
       "    </tr>\n",
       "  </thead>\n",
       "  <tbody>\n",
       "    <tr>\n",
       "      <th>0</th>\n",
       "      <td>0</td>\n",
       "      <td>1.440172</td>\n",
       "      <td>1.440105</td>\n",
       "      <td>1.424768</td>\n",
       "    </tr>\n",
       "    <tr>\n",
       "      <th>1</th>\n",
       "      <td>1</td>\n",
       "      <td>1.311188</td>\n",
       "      <td>1.310947</td>\n",
       "      <td>1.300136</td>\n",
       "    </tr>\n",
       "    <tr>\n",
       "      <th>2</th>\n",
       "      <td>2</td>\n",
       "      <td>1.460847</td>\n",
       "      <td>1.460745</td>\n",
       "      <td>1.452281</td>\n",
       "    </tr>\n",
       "    <tr>\n",
       "      <th>3</th>\n",
       "      <td>3</td>\n",
       "      <td>1.461742</td>\n",
       "      <td>1.461562</td>\n",
       "      <td>1.449365</td>\n",
       "    </tr>\n",
       "    <tr>\n",
       "      <th>4</th>\n",
       "      <td>4</td>\n",
       "      <td>1.460521</td>\n",
       "      <td>1.464334</td>\n",
       "      <td>1.449512</td>\n",
       "    </tr>\n",
       "  </tbody>\n",
       "</table>\n",
       "</div>"
      ],
      "text/plain": [
       "   combination        lr     ridge     lasso\n",
       "0            0  1.440172  1.440105  1.424768\n",
       "1            1  1.311188  1.310947  1.300136\n",
       "2            2  1.460847  1.460745  1.452281\n",
       "3            3  1.461742  1.461562  1.449365\n",
       "4            4  1.460521  1.464334  1.449512"
      ]
     },
     "execution_count": 98,
     "metadata": {},
     "output_type": "execute_result"
    }
   ],
   "source": [
    "labels = [\"combination\", \"lr\", \"ridge\", \"lasso\"]\n",
    "\n",
    "from pandas import DataFrame\n",
    "result_df = DataFrame(final_output, columns=labels)\n",
    "result_df.head()"
   ]
  },
  {
   "cell_type": "code",
   "execution_count": 99,
   "metadata": {},
   "outputs": [
    {
     "data": {
      "text/plain": [
       "combination    0.000000\n",
       "lr             1.275627\n",
       "ridge          1.276693\n",
       "lasso          1.260626\n",
       "dtype: float64"
      ]
     },
     "execution_count": 99,
     "metadata": {},
     "output_type": "execute_result"
    }
   ],
   "source": [
    "result_df.min()"
   ]
  },
  {
   "cell_type": "code",
   "execution_count": 100,
   "metadata": {},
   "outputs": [
    {
     "data": {
      "text/plain": [
       "228     1.260626\n",
       "144     1.279235\n",
       "1019    1.279249\n",
       "348     1.279529\n",
       "53      1.279648\n",
       "Name: lasso, dtype: float64"
      ]
     },
     "execution_count": 100,
     "metadata": {},
     "output_type": "execute_result"
    }
   ],
   "source": [
    "result_df[\"lasso\"].sort_values().head()"
   ]
  },
  {
   "cell_type": "code",
   "execution_count": 101,
   "metadata": {},
   "outputs": [
    {
     "data": {
      "text/plain": [
       "['temp',\n",
       " 'atemp',\n",
       " 'humidity',\n",
       " 'windspeed',\n",
       " 'holiday',\n",
       " 'workingday',\n",
       " 'weather',\n",
       " 'weekday',\n",
       " 'hour',\n",
       " 'weather_1',\n",
       " 'weather_2',\n",
       " 'weather_3',\n",
       " 'weather_4',\n",
       " 'weekday_0',\n",
       " 'weekday_1',\n",
       " 'weekday_2',\n",
       " 'weekday_3',\n",
       " 'weekday_4',\n",
       " 'weekday_5',\n",
       " 'weekday_6']"
      ]
     },
     "execution_count": 101,
     "metadata": {},
     "output_type": "execute_result"
    }
   ],
   "source": [
    "variable_combinations[228]"
   ]
  },
  {
   "cell_type": "code",
   "execution_count": 102,
   "metadata": {},
   "outputs": [
    {
     "name": "stderr",
     "output_type": "stream",
     "text": [
      "C:\\Users\\Daehun\\Anaconda3\\lib\\site-packages\\sklearn\\utils\\validation.py:475: DataConversionWarning: Data with input dtype object was converted to float64 by StandardScaler.\n",
      "  warnings.warn(msg, DataConversionWarning)\n"
     ]
    },
    {
     "data": {
      "text/plain": [
       "(6493, 20)"
      ]
     },
     "execution_count": 102,
     "metadata": {},
     "output_type": "execute_result"
    }
   ],
   "source": [
    "target_df = pre_df[variable_combinations[228]]\n",
    "ALL = target_df.values\n",
    "std = StandardScaler()\n",
    "std.fit(ALL)\n",
    "ALL_scaled = std.transform(ALL)\n",
    "X_submission_test = ALL_scaled[test_index]\n",
    "X_submission_test.shape"
   ]
  },
  {
   "cell_type": "code",
   "execution_count": 103,
   "metadata": {},
   "outputs": [
    {
     "data": {
      "text/plain": [
       "array([[-1.23077877, -1.44592342, -0.34847267, ..., -0.40865929,\n",
       "        -0.41105331, -0.41009641],\n",
       "       [-1.23077877, -1.18173227, -0.34847267, ..., -0.40865929,\n",
       "        -0.41105331, -0.41009641],\n",
       "       [-1.23077877, -1.18173227, -0.34847267, ..., -0.40865929,\n",
       "        -0.41105331, -0.41009641],\n",
       "       ...,\n",
       "       [-1.23077877, -1.26960201, -0.14113744, ..., -0.40865929,\n",
       "        -0.41105331, -0.41009641],\n",
       "       [-1.23077877, -1.18173227, -0.34847267, ..., -0.40865929,\n",
       "        -0.41105331, -0.41009641],\n",
       "       [-1.23077877, -1.18173227,  0.11803159, ..., -0.40865929,\n",
       "        -0.41105331, -0.41009641]])"
      ]
     },
     "execution_count": 103,
     "metadata": {},
     "output_type": "execute_result"
    }
   ],
   "source": [
    "X_submission_test"
   ]
  },
  {
   "cell_type": "code",
   "execution_count": 105,
   "metadata": {},
   "outputs": [
    {
     "data": {
      "text/plain": [
       "Lasso(alpha=1.0, copy_X=True, fit_intercept=True, max_iter=1000,\n",
       "   normalize=False, positive=False, precompute=False, random_state=None,\n",
       "   selection='cyclic', tol=0.0001, warm_start=False)"
      ]
     },
     "execution_count": 105,
     "metadata": {},
     "output_type": "execute_result"
    }
   ],
   "source": [
    "models[228][2]"
   ]
  },
  {
   "cell_type": "code",
   "execution_count": 106,
   "metadata": {},
   "outputs": [],
   "source": [
    "final_result = models[228][2].predict(X_submission_test)\n",
    "final_result[final_result < 0] = 0"
   ]
  },
  {
   "cell_type": "code",
   "execution_count": 107,
   "metadata": {},
   "outputs": [
    {
     "data": {
      "text/plain": [
       "array([ 22.96973148,  34.42480162,  41.79512688, ..., 170.3884875 ,\n",
       "       187.50534509, 177.91942769])"
      ]
     },
     "execution_count": 107,
     "metadata": {},
     "output_type": "execute_result"
    }
   ],
   "source": [
    "final_result"
   ]
  },
  {
   "cell_type": "code",
   "execution_count": 108,
   "metadata": {},
   "outputs": [
    {
     "data": {
      "text/plain": [
       "10886   2011-01-20 00:00:00\n",
       "10887   2011-01-20 01:00:00\n",
       "10888   2011-01-20 02:00:00\n",
       "10889   2011-01-20 03:00:00\n",
       "10890   2011-01-20 04:00:00\n",
       "Name: datetime, dtype: datetime64[ns]"
      ]
     },
     "execution_count": 108,
     "metadata": {},
     "output_type": "execute_result"
    }
   ],
   "source": [
    "pre_df.iloc[test_index][\"datetime\"].head()"
   ]
  },
  {
   "cell_type": "code",
   "execution_count": 109,
   "metadata": {},
   "outputs": [
    {
     "data": {
      "text/html": [
       "<div>\n",
       "<style scoped>\n",
       "    .dataframe tbody tr th:only-of-type {\n",
       "        vertical-align: middle;\n",
       "    }\n",
       "\n",
       "    .dataframe tbody tr th {\n",
       "        vertical-align: top;\n",
       "    }\n",
       "\n",
       "    .dataframe thead th {\n",
       "        text-align: right;\n",
       "    }\n",
       "</style>\n",
       "<table border=\"1\" class=\"dataframe\">\n",
       "  <thead>\n",
       "    <tr style=\"text-align: right;\">\n",
       "      <th></th>\n",
       "      <th>datetime</th>\n",
       "      <th>count</th>\n",
       "    </tr>\n",
       "  </thead>\n",
       "  <tbody>\n",
       "    <tr>\n",
       "      <th>10886</th>\n",
       "      <td>2011-01-20 00:00:00</td>\n",
       "      <td>22.969731</td>\n",
       "    </tr>\n",
       "    <tr>\n",
       "      <th>10887</th>\n",
       "      <td>2011-01-20 01:00:00</td>\n",
       "      <td>34.424802</td>\n",
       "    </tr>\n",
       "    <tr>\n",
       "      <th>10888</th>\n",
       "      <td>2011-01-20 02:00:00</td>\n",
       "      <td>41.795127</td>\n",
       "    </tr>\n",
       "    <tr>\n",
       "      <th>10889</th>\n",
       "      <td>2011-01-20 03:00:00</td>\n",
       "      <td>48.108490</td>\n",
       "    </tr>\n",
       "    <tr>\n",
       "      <th>10890</th>\n",
       "      <td>2011-01-20 04:00:00</td>\n",
       "      <td>55.478815</td>\n",
       "    </tr>\n",
       "  </tbody>\n",
       "</table>\n",
       "</div>"
      ],
      "text/plain": [
       "                 datetime      count\n",
       "10886 2011-01-20 00:00:00  22.969731\n",
       "10887 2011-01-20 01:00:00  34.424802\n",
       "10888 2011-01-20 02:00:00  41.795127\n",
       "10889 2011-01-20 03:00:00  48.108490\n",
       "10890 2011-01-20 04:00:00  55.478815"
      ]
     },
     "execution_count": 109,
     "metadata": {},
     "output_type": "execute_result"
    }
   ],
   "source": [
    "data = {\"datetime\": pre_df.iloc[test_index][\"datetime\"], \"count\": final_result}\n",
    "df_submission = DataFrame(data, columns=[\"datetime\", \"count\"])\n",
    "df_submission.head()"
   ]
  },
  {
   "cell_type": "code",
   "execution_count": 110,
   "metadata": {},
   "outputs": [],
   "source": [
    "df_submission.set_index(\"datetime\").to_csv(\"teamlab_submission_lasso.csv\")"
   ]
  }
 ],
 "metadata": {
  "kernelspec": {
   "display_name": "Python 3",
   "language": "python",
   "name": "python3"
  },
  "language_info": {
   "codemirror_mode": {
    "name": "ipython",
    "version": 3
   },
   "file_extension": ".py",
   "mimetype": "text/x-python",
   "name": "python",
   "nbconvert_exporter": "python",
   "pygments_lexer": "ipython3",
   "version": "3.6.5"
  }
 },
 "nbformat": 4,
 "nbformat_minor": 2
}
