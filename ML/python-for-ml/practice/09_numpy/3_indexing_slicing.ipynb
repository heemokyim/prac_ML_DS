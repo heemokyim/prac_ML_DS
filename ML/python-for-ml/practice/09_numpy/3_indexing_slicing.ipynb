{
 "cells": [
  {
   "cell_type": "markdown",
   "metadata": {},
   "source": [
    "# indexing & slicing\n",
    "\n",
    "## indexing\n",
    "\n",
    "* list와 달리 이차원 배열에서 [0, 0] 과 같은 표기법을 제공해준다.\n",
    "- matrix일 경우 row 뒤는 column"
   ]
  },
  {
   "cell_type": "code",
   "execution_count": 1,
   "metadata": {},
   "outputs": [],
   "source": [
    "import numpy as np"
   ]
  },
  {
   "cell_type": "code",
   "execution_count": 3,
   "metadata": {},
   "outputs": [
    {
     "name": "stdout",
     "output_type": "stream",
     "text": [
      "[[1 2 3]\n",
      " [4 5 6]]\n",
      "1\n",
      "1\n",
      "[[12  2  3]\n",
      " [ 4  5  6]]\n",
      "[[5 2 3]\n",
      " [4 5 6]]\n"
     ]
    }
   ],
   "source": [
    "a = np.array([[1,2,3], [4.5, 5, 6]], int)\n",
    "\n",
    "print(a)\n",
    "print(a[0,0])\n",
    "print(a[0][0])\n",
    "\n",
    "a[0,0] = 12\n",
    "print(a)\n",
    "a[0][0] = 5\n",
    "print(a)"
   ]
  },
  {
   "cell_type": "markdown",
   "metadata": {},
   "source": [
    "## Slicing\n",
    "\n",
    "* list와 달리 행과 열을 나눠 slicing 가능\n",
    "* Matrix의 부분 집합을 추출할 때 유용함"
   ]
  },
  {
   "cell_type": "code",
   "execution_count": 6,
   "metadata": {},
   "outputs": [
    {
     "name": "stdout",
     "output_type": "stream",
     "text": [
      "[[ 1  2  3  4  5]\n",
      " [ 6  7  8  9 10]]\n",
      "[[ 3  4  5]\n",
      " [ 8  9 10]]\n",
      "[7 8]\n",
      "[[ 6  7  8  9 10]]\n",
      "(1, 5)\n"
     ]
    }
   ],
   "source": [
    "b = np.array([[1, 2, 3, 4, 5], [6, 7, 8, 9, 10]], int)\n",
    "print(b)\n",
    "print(b[:, 2:])\n",
    "print(b[1, 1:3])\n",
    "print(b[1:3])\n",
    "print(b[1:3].shape)"
   ]
  },
  {
   "cell_type": "code",
   "execution_count": null,
   "metadata": {},
   "outputs": [],
   "source": []
  }
 ],
 "metadata": {
  "kernelspec": {
   "display_name": "Python 3",
   "language": "python",
   "name": "python3"
  },
  "language_info": {
   "codemirror_mode": {
    "name": "ipython",
    "version": 3
   },
   "file_extension": ".py",
   "mimetype": "text/x-python",
   "name": "python",
   "nbconvert_exporter": "python",
   "pygments_lexer": "ipython3",
   "version": "3.6.5"
  }
 },
 "nbformat": 4,
 "nbformat_minor": 2
}
