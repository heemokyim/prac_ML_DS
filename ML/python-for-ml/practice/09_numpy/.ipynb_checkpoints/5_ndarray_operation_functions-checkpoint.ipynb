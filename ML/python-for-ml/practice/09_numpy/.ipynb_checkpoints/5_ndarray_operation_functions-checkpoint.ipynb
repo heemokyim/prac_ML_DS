{
 "cells": [
  {
   "cell_type": "markdown",
   "metadata": {},
   "source": [
    "# ndarray operation functions\n",
    "\n",
    "numpy element 계산법"
   ]
  },
  {
   "cell_type": "markdown",
   "metadata": {},
   "source": [
    "### axis 개념 중요\n",
    "\n",
    "(2, 3)\n",
    "* 2 : axis = 0\n",
    "* 3 : axis = 1\n",
    "\n",
    "새로 생기는 축부터 0이 된다.  \n",
    "따라서 `(z, y, x)`는 axis`(0, 1, 2)`가 된다는 의미"
   ]
  },
  {
   "cell_type": "code",
   "execution_count": 2,
   "metadata": {},
   "outputs": [
    {
     "data": {
      "text/plain": [
       "array([[ 1,  2,  3,  4],\n",
       "       [ 5,  6,  7,  8],\n",
       "       [ 9, 10, 11, 12]])"
      ]
     },
     "execution_count": 2,
     "metadata": {},
     "output_type": "execute_result"
    }
   ],
   "source": [
    "import numpy as np\n",
    "test_arr = np.arange(1, 13).reshape(3, 4)\n",
    "test_arr"
   ]
  },
  {
   "cell_type": "code",
   "execution_count": 4,
   "metadata": {},
   "outputs": [
    {
     "data": {
      "text/plain": [
       "(array([15, 18, 21, 24]), array([10, 26, 42]))"
      ]
     },
     "execution_count": 4,
     "metadata": {},
     "output_type": "execute_result"
    }
   ],
   "source": [
    "test_arr.sum(axis = 0), test_arr.sum(axis = 1)"
   ]
  },
  {
   "cell_type": "markdown",
   "metadata": {},
   "source": [
    "## 평균, 표준편차, 뭐 이런 것들 많음\n",
    "\n",
    "숙제때 쓸 예정!"
   ]
  }
 ],
 "metadata": {
  "kernelspec": {
   "display_name": "Python 3",
   "language": "python",
   "name": "python3"
  },
  "language_info": {
   "codemirror_mode": {
    "name": "ipython",
    "version": 3
   },
   "file_extension": ".py",
   "mimetype": "text/x-python",
   "name": "python",
   "nbconvert_exporter": "python",
   "pygments_lexer": "ipython3",
   "version": "3.6.5"
  }
 },
 "nbformat": 4,
 "nbformat_minor": 2
}
